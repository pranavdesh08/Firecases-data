{
 "cells": [
  {
   "cell_type": "markdown",
   "metadata": {},
   "source": [
    "# FIRE INCIDENT\n",
    "\n",
    "\n",
    "\n",
    "\n",
    "##  DATA SCIENCE PROJECT\n",
    "\n",
    "\n",
    "### Group Members \n",
    "1. Naina Jain\n",
    "2. Ashwini Gore\n",
    "3. Ayushi Arora\n",
    "4. Amisha Sancheti\n",
    "5. Pranav Deshpande\n",
    "\n",
    "\n",
    "### Contents\n",
    "1. Introduction\n",
    "2. Data Cleaning\n",
    "3. Exploratory Data Analysis\n",
    "4. Linear Regression Model\n",
    "5. Summary\n",
    "\n",
    "\n",
    "## Introduction\n",
    "\n",
    "\n",
    "Fire spreads rapidly. Even a single minute delay in controlling the fire can cause a lot of disaster. So, It is important to control the fire as quick as possible. Catching fire has always been an issue, and there are different causes for a fire incident. According to the US fire administration, New York leads the nation in number of fire deaths. We have collected fire incident data of New York city in 2018. We have features like number of ladder unit, engines and other unit assigned for a fire incident. Also, incident reported time and fire brigade dispatch time, travelling time and closing time.We are analyzing various factor for a fire incident, and trying to find out the effects of various factors on the time taken by fire department to close the incident once it is reported. \n",
    "\n",
    "\n",
    "\n",
    "## Audience\n",
    "\n",
    "Fire brigade department \n",
    "\n",
    "\n",
    "\n",
    "## Goals\n",
    "\n",
    "Exploratory data analysis to understand relation between various features involved in resolving a fire incident.Predicting the total time taken for closing a fire incident once it is reported.\n",
    "\n"
   ]
  },
  {
   "cell_type": "markdown",
   "metadata": {},
   "source": [
    "## Displaying the Dataset"
   ]
  },
  {
   "cell_type": "markdown",
   "metadata": {},
   "source": [
    "### Importing required libraries"
   ]
  },
  {
   "cell_type": "code",
   "execution_count": 142,
   "metadata": {},
   "outputs": [],
   "source": [
    "import pandas as pd\n",
    "import numpy as np\n",
    "import seaborn as sns\n",
    "from sklearn.linear_model import LinearRegression\n",
    "import statsmodels.api as sm\n",
    "from pandas import datetime\n",
    "import matplotlib.pyplot as plt\n",
    "from sklearn.preprocessing import Normalizer, MinMaxScaler\n",
    "from sklearn.model_selection import GridSearchCV\n",
    "from math import sqrt\n",
    "from sklearn.metrics import mean_squared_error"
   ]
  },
  {
   "cell_type": "markdown",
   "metadata": {},
   "source": [
    "### Reading data from csv file and priting first 5 rows to make sure data read properly"
   ]
  },
  {
   "cell_type": "code",
   "execution_count": 53,
   "metadata": {
    "scrolled": false
   },
   "outputs": [
    {
     "data": {
      "text/html": [
       "<div>\n",
       "<style scoped>\n",
       "    .dataframe tbody tr th:only-of-type {\n",
       "        vertical-align: middle;\n",
       "    }\n",
       "\n",
       "    .dataframe tbody tr th {\n",
       "        vertical-align: top;\n",
       "    }\n",
       "\n",
       "    .dataframe thead th {\n",
       "        text-align: right;\n",
       "    }\n",
       "</style>\n",
       "<table border=\"1\" class=\"dataframe\">\n",
       "  <thead>\n",
       "    <tr style=\"text-align: right;\">\n",
       "      <th></th>\n",
       "      <th>STARFIRE_INCIDENT_ID</th>\n",
       "      <th>INCIDENT_DATETIME</th>\n",
       "      <th>ALARM_BOX_BOROUGH</th>\n",
       "      <th>ALARM_BOX_NUMBER</th>\n",
       "      <th>ALARM_BOX_LOCATION</th>\n",
       "      <th>INCIDENT_BOROUGH</th>\n",
       "      <th>ZIPCODE</th>\n",
       "      <th>POLICEPRECINCT</th>\n",
       "      <th>CITYCOUNCILDISTRICT</th>\n",
       "      <th>COMMUNITYDISTRICT</th>\n",
       "      <th>...</th>\n",
       "      <th>FIRST_ACTIVATION_DATETIME</th>\n",
       "      <th>FIRST_ON_SCENE_DATETIME</th>\n",
       "      <th>INCIDENT_CLOSE_DATETIME</th>\n",
       "      <th>VALID_DISPATCH_RSPNS_TIME_INDC</th>\n",
       "      <th>VALID_INCIDENT_RSPNS_TIME_INDC</th>\n",
       "      <th>INCIDENT_RESPONSE_SECONDS_QY</th>\n",
       "      <th>INCIDENT_TRAVEL_TM_SECONDS_QY</th>\n",
       "      <th>ENGINES_ASSIGNED_QUANTITY</th>\n",
       "      <th>LADDERS_ASSIGNED_QUANTITY</th>\n",
       "      <th>OTHER_UNITS_ASSIGNED_QUANTITY</th>\n",
       "    </tr>\n",
       "  </thead>\n",
       "  <tbody>\n",
       "    <tr>\n",
       "      <td>0</td>\n",
       "      <td>1.800111e+15</td>\n",
       "      <td>01/01/2018 08:15:43 AM</td>\n",
       "      <td>MANHATTAN</td>\n",
       "      <td>1083</td>\n",
       "      <td>BROADWAY &amp; 78 ST</td>\n",
       "      <td>MANHATTAN</td>\n",
       "      <td>10024.0</td>\n",
       "      <td>20.0</td>\n",
       "      <td>6.0</td>\n",
       "      <td>107.0</td>\n",
       "      <td>...</td>\n",
       "      <td>01/01/2018 08:16:18 AM</td>\n",
       "      <td>NaN</td>\n",
       "      <td>01/01/2018 08:21:25 AM</td>\n",
       "      <td>N</td>\n",
       "      <td>N</td>\n",
       "      <td>0</td>\n",
       "      <td>0</td>\n",
       "      <td>1</td>\n",
       "      <td>0</td>\n",
       "      <td>0</td>\n",
       "    </tr>\n",
       "    <tr>\n",
       "      <td>1</td>\n",
       "      <td>1.800144e+15</td>\n",
       "      <td>01/01/2018 08:16:50 AM</td>\n",
       "      <td>BRONX</td>\n",
       "      <td>4352</td>\n",
       "      <td>BRUNER AND ASTOR AVES</td>\n",
       "      <td>BRONX</td>\n",
       "      <td>10469.0</td>\n",
       "      <td>49.0</td>\n",
       "      <td>13.0</td>\n",
       "      <td>211.0</td>\n",
       "      <td>...</td>\n",
       "      <td>01/01/2018 08:33:50 AM</td>\n",
       "      <td>01/01/2018 08:37:25 AM</td>\n",
       "      <td>01/01/2018 08:45:42 AM</td>\n",
       "      <td>N</td>\n",
       "      <td>Y</td>\n",
       "      <td>1235</td>\n",
       "      <td>239</td>\n",
       "      <td>1</td>\n",
       "      <td>0</td>\n",
       "      <td>0</td>\n",
       "    </tr>\n",
       "    <tr>\n",
       "      <td>2</td>\n",
       "      <td>1.800115e+15</td>\n",
       "      <td>01/01/2018 08:16:55 AM</td>\n",
       "      <td>BROOKLYN</td>\n",
       "      <td>1540</td>\n",
       "      <td>BEVERLEY RD &amp; E 19 ST</td>\n",
       "      <td>BROOKLYN</td>\n",
       "      <td>11226.0</td>\n",
       "      <td>70.0</td>\n",
       "      <td>40.0</td>\n",
       "      <td>314.0</td>\n",
       "      <td>...</td>\n",
       "      <td>01/01/2018 08:17:31 AM</td>\n",
       "      <td>01/01/2018 08:21:21 AM</td>\n",
       "      <td>01/01/2018 08:29:49 AM</td>\n",
       "      <td>N</td>\n",
       "      <td>Y</td>\n",
       "      <td>266</td>\n",
       "      <td>259</td>\n",
       "      <td>1</td>\n",
       "      <td>0</td>\n",
       "      <td>0</td>\n",
       "    </tr>\n",
       "    <tr>\n",
       "      <td>3</td>\n",
       "      <td>1.800108e+15</td>\n",
       "      <td>01/01/2018 08:17:32 AM</td>\n",
       "      <td>MANHATTAN</td>\n",
       "      <td>758</td>\n",
       "      <td>6 AVE &amp; W 39 ST</td>\n",
       "      <td>MANHATTAN</td>\n",
       "      <td>10018.0</td>\n",
       "      <td>14.0</td>\n",
       "      <td>4.0</td>\n",
       "      <td>105.0</td>\n",
       "      <td>...</td>\n",
       "      <td>01/01/2018 08:18:36 AM</td>\n",
       "      <td>01/01/2018 08:23:52 AM</td>\n",
       "      <td>01/01/2018 08:27:21 AM</td>\n",
       "      <td>N</td>\n",
       "      <td>Y</td>\n",
       "      <td>380</td>\n",
       "      <td>325</td>\n",
       "      <td>1</td>\n",
       "      <td>0</td>\n",
       "      <td>1</td>\n",
       "    </tr>\n",
       "    <tr>\n",
       "      <td>4</td>\n",
       "      <td>1.800185e+15</td>\n",
       "      <td>01/01/2018 08:19:35 AM</td>\n",
       "      <td>QUEENS</td>\n",
       "      <td>8495</td>\n",
       "      <td>VAN WYCK EXPY-ATLANTIC AV TO ROCKAWAY BL</td>\n",
       "      <td>QUEENS</td>\n",
       "      <td>NaN</td>\n",
       "      <td>NaN</td>\n",
       "      <td>NaN</td>\n",
       "      <td>NaN</td>\n",
       "      <td>...</td>\n",
       "      <td>01/01/2018 08:20:14 AM</td>\n",
       "      <td>01/01/2018 08:28:02 AM</td>\n",
       "      <td>01/01/2018 09:15:11 AM</td>\n",
       "      <td>N</td>\n",
       "      <td>Y</td>\n",
       "      <td>507</td>\n",
       "      <td>491</td>\n",
       "      <td>2</td>\n",
       "      <td>2</td>\n",
       "      <td>1</td>\n",
       "    </tr>\n",
       "  </tbody>\n",
       "</table>\n",
       "<p>5 rows × 29 columns</p>\n",
       "</div>"
      ],
      "text/plain": [
       "   STARFIRE_INCIDENT_ID       INCIDENT_DATETIME ALARM_BOX_BOROUGH  \\\n",
       "0          1.800111e+15  01/01/2018 08:15:43 AM         MANHATTAN   \n",
       "1          1.800144e+15  01/01/2018 08:16:50 AM             BRONX   \n",
       "2          1.800115e+15  01/01/2018 08:16:55 AM          BROOKLYN   \n",
       "3          1.800108e+15  01/01/2018 08:17:32 AM         MANHATTAN   \n",
       "4          1.800185e+15  01/01/2018 08:19:35 AM            QUEENS   \n",
       "\n",
       "   ALARM_BOX_NUMBER                        ALARM_BOX_LOCATION  \\\n",
       "0              1083                          BROADWAY & 78 ST   \n",
       "1              4352                     BRUNER AND ASTOR AVES   \n",
       "2              1540                     BEVERLEY RD & E 19 ST   \n",
       "3               758                           6 AVE & W 39 ST   \n",
       "4              8495  VAN WYCK EXPY-ATLANTIC AV TO ROCKAWAY BL   \n",
       "\n",
       "  INCIDENT_BOROUGH  ZIPCODE  POLICEPRECINCT  CITYCOUNCILDISTRICT  \\\n",
       "0        MANHATTAN  10024.0            20.0                  6.0   \n",
       "1            BRONX  10469.0            49.0                 13.0   \n",
       "2         BROOKLYN  11226.0            70.0                 40.0   \n",
       "3        MANHATTAN  10018.0            14.0                  4.0   \n",
       "4           QUEENS      NaN             NaN                  NaN   \n",
       "\n",
       "   COMMUNITYDISTRICT  ...  FIRST_ACTIVATION_DATETIME  FIRST_ON_SCENE_DATETIME  \\\n",
       "0              107.0  ...     01/01/2018 08:16:18 AM                      NaN   \n",
       "1              211.0  ...     01/01/2018 08:33:50 AM   01/01/2018 08:37:25 AM   \n",
       "2              314.0  ...     01/01/2018 08:17:31 AM   01/01/2018 08:21:21 AM   \n",
       "3              105.0  ...     01/01/2018 08:18:36 AM   01/01/2018 08:23:52 AM   \n",
       "4                NaN  ...     01/01/2018 08:20:14 AM   01/01/2018 08:28:02 AM   \n",
       "\n",
       "  INCIDENT_CLOSE_DATETIME VALID_DISPATCH_RSPNS_TIME_INDC  \\\n",
       "0  01/01/2018 08:21:25 AM                              N   \n",
       "1  01/01/2018 08:45:42 AM                              N   \n",
       "2  01/01/2018 08:29:49 AM                              N   \n",
       "3  01/01/2018 08:27:21 AM                              N   \n",
       "4  01/01/2018 09:15:11 AM                              N   \n",
       "\n",
       "  VALID_INCIDENT_RSPNS_TIME_INDC INCIDENT_RESPONSE_SECONDS_QY  \\\n",
       "0                              N                            0   \n",
       "1                              Y                         1235   \n",
       "2                              Y                          266   \n",
       "3                              Y                          380   \n",
       "4                              Y                          507   \n",
       "\n",
       "  INCIDENT_TRAVEL_TM_SECONDS_QY  ENGINES_ASSIGNED_QUANTITY  \\\n",
       "0                             0                          1   \n",
       "1                           239                          1   \n",
       "2                           259                          1   \n",
       "3                           325                          1   \n",
       "4                           491                          2   \n",
       "\n",
       "  LADDERS_ASSIGNED_QUANTITY OTHER_UNITS_ASSIGNED_QUANTITY  \n",
       "0                         0                             0  \n",
       "1                         0                             0  \n",
       "2                         0                             0  \n",
       "3                         0                             1  \n",
       "4                         2                             1  \n",
       "\n",
       "[5 rows x 29 columns]"
      ]
     },
     "execution_count": 53,
     "metadata": {},
     "output_type": "execute_result"
    }
   ],
   "source": [
    "df=pd.read_csv('mainFireData.csv',header=0,index_col=0)\n",
    "df.head()"
   ]
  },
  {
   "cell_type": "markdown",
   "metadata": {},
   "source": [
    "### Fetching required columns and printing the shape of Dataframe"
   ]
  },
  {
   "cell_type": "code",
   "execution_count": 55,
   "metadata": {},
   "outputs": [],
   "source": [
    "df = df[[\"INCIDENT_DATETIME\",\"ALARM_BOX_BOROUGH\",\"INCIDENT_CLASSIFICATION\",\"INCIDENT_CLASSIFICATION_GROUP\",\"DISPATCH_RESPONSE_SECONDS_QY\",\"FIRST_ASSIGNMENT_DATETIME\",\"FIRST_ACTIVATION_DATETIME\",\"FIRST_ON_SCENE_DATETIME\",\"INCIDENT_CLOSE_DATETIME\",\"INCIDENT_RESPONSE_SECONDS_QY\",\"INCIDENT_TRAVEL_TM_SECONDS_QY\",\"ENGINES_ASSIGNED_QUANTITY\",\"LADDERS_ASSIGNED_QUANTITY\",\"OTHER_UNITS_ASSIGNED_QUANTITY\"]]"
   ]
  },
  {
   "cell_type": "code",
   "execution_count": 56,
   "metadata": {},
   "outputs": [
    {
     "data": {
      "text/plain": [
       "(618688, 14)"
      ]
     },
     "execution_count": 56,
     "metadata": {},
     "output_type": "execute_result"
    }
   ],
   "source": [
    "df.shape"
   ]
  },
  {
   "cell_type": "code",
   "execution_count": 57,
   "metadata": {},
   "outputs": [
    {
     "data": {
      "text/html": [
       "<div>\n",
       "<style scoped>\n",
       "    .dataframe tbody tr th:only-of-type {\n",
       "        vertical-align: middle;\n",
       "    }\n",
       "\n",
       "    .dataframe tbody tr th {\n",
       "        vertical-align: top;\n",
       "    }\n",
       "\n",
       "    .dataframe thead th {\n",
       "        text-align: right;\n",
       "    }\n",
       "</style>\n",
       "<table border=\"1\" class=\"dataframe\">\n",
       "  <thead>\n",
       "    <tr style=\"text-align: right;\">\n",
       "      <th></th>\n",
       "      <th>INCIDENT_DATETIME</th>\n",
       "      <th>ALARM_BOX_BOROUGH</th>\n",
       "      <th>INCIDENT_CLASSIFICATION</th>\n",
       "      <th>INCIDENT_CLASSIFICATION_GROUP</th>\n",
       "      <th>DISPATCH_RESPONSE_SECONDS_QY</th>\n",
       "      <th>FIRST_ASSIGNMENT_DATETIME</th>\n",
       "      <th>FIRST_ACTIVATION_DATETIME</th>\n",
       "      <th>FIRST_ON_SCENE_DATETIME</th>\n",
       "      <th>INCIDENT_CLOSE_DATETIME</th>\n",
       "      <th>INCIDENT_RESPONSE_SECONDS_QY</th>\n",
       "      <th>INCIDENT_TRAVEL_TM_SECONDS_QY</th>\n",
       "      <th>ENGINES_ASSIGNED_QUANTITY</th>\n",
       "      <th>LADDERS_ASSIGNED_QUANTITY</th>\n",
       "      <th>OTHER_UNITS_ASSIGNED_QUANTITY</th>\n",
       "    </tr>\n",
       "  </thead>\n",
       "  <tbody>\n",
       "    <tr>\n",
       "      <td>0</td>\n",
       "      <td>01/01/2018 08:15:43 AM</td>\n",
       "      <td>MANHATTAN</td>\n",
       "      <td>Medical - EMS Link 10-91</td>\n",
       "      <td>Medical Emergencies</td>\n",
       "      <td>9</td>\n",
       "      <td>01/01/2018 08:15:52 AM</td>\n",
       "      <td>01/01/2018 08:16:18 AM</td>\n",
       "      <td>NaN</td>\n",
       "      <td>01/01/2018 08:21:25 AM</td>\n",
       "      <td>0</td>\n",
       "      <td>0</td>\n",
       "      <td>1</td>\n",
       "      <td>0</td>\n",
       "      <td>0</td>\n",
       "    </tr>\n",
       "    <tr>\n",
       "      <td>1</td>\n",
       "      <td>01/01/2018 08:16:50 AM</td>\n",
       "      <td>BRONX</td>\n",
       "      <td>Medical - Assist Civilian</td>\n",
       "      <td>Medical Emergencies</td>\n",
       "      <td>996</td>\n",
       "      <td>01/01/2018 08:33:26 AM</td>\n",
       "      <td>01/01/2018 08:33:50 AM</td>\n",
       "      <td>01/01/2018 08:37:25 AM</td>\n",
       "      <td>01/01/2018 08:45:42 AM</td>\n",
       "      <td>1235</td>\n",
       "      <td>239</td>\n",
       "      <td>1</td>\n",
       "      <td>0</td>\n",
       "      <td>0</td>\n",
       "    </tr>\n",
       "    <tr>\n",
       "      <td>2</td>\n",
       "      <td>01/01/2018 08:16:55 AM</td>\n",
       "      <td>BROOKLYN</td>\n",
       "      <td>Medical - Assist Civilian</td>\n",
       "      <td>Medical Emergencies</td>\n",
       "      <td>7</td>\n",
       "      <td>01/01/2018 08:17:02 AM</td>\n",
       "      <td>01/01/2018 08:17:31 AM</td>\n",
       "      <td>01/01/2018 08:21:21 AM</td>\n",
       "      <td>01/01/2018 08:29:49 AM</td>\n",
       "      <td>266</td>\n",
       "      <td>259</td>\n",
       "      <td>1</td>\n",
       "      <td>0</td>\n",
       "      <td>0</td>\n",
       "    </tr>\n",
       "    <tr>\n",
       "      <td>3</td>\n",
       "      <td>01/01/2018 08:17:32 AM</td>\n",
       "      <td>MANHATTAN</td>\n",
       "      <td>Alarm System - Defective</td>\n",
       "      <td>NonMedical Emergencies</td>\n",
       "      <td>55</td>\n",
       "      <td>01/01/2018 08:18:27 AM</td>\n",
       "      <td>01/01/2018 08:18:36 AM</td>\n",
       "      <td>01/01/2018 08:23:52 AM</td>\n",
       "      <td>01/01/2018 08:27:21 AM</td>\n",
       "      <td>380</td>\n",
       "      <td>325</td>\n",
       "      <td>1</td>\n",
       "      <td>0</td>\n",
       "      <td>1</td>\n",
       "    </tr>\n",
       "    <tr>\n",
       "      <td>4</td>\n",
       "      <td>01/01/2018 08:19:35 AM</td>\n",
       "      <td>QUEENS</td>\n",
       "      <td>Vehicle Accident - Other</td>\n",
       "      <td>NonMedical Emergencies</td>\n",
       "      <td>16</td>\n",
       "      <td>01/01/2018 08:19:51 AM</td>\n",
       "      <td>01/01/2018 08:20:14 AM</td>\n",
       "      <td>01/01/2018 08:28:02 AM</td>\n",
       "      <td>01/01/2018 09:15:11 AM</td>\n",
       "      <td>507</td>\n",
       "      <td>491</td>\n",
       "      <td>2</td>\n",
       "      <td>2</td>\n",
       "      <td>1</td>\n",
       "    </tr>\n",
       "  </tbody>\n",
       "</table>\n",
       "</div>"
      ],
      "text/plain": [
       "        INCIDENT_DATETIME ALARM_BOX_BOROUGH    INCIDENT_CLASSIFICATION  \\\n",
       "0  01/01/2018 08:15:43 AM         MANHATTAN   Medical - EMS Link 10-91   \n",
       "1  01/01/2018 08:16:50 AM             BRONX  Medical - Assist Civilian   \n",
       "2  01/01/2018 08:16:55 AM          BROOKLYN  Medical - Assist Civilian   \n",
       "3  01/01/2018 08:17:32 AM         MANHATTAN   Alarm System - Defective   \n",
       "4  01/01/2018 08:19:35 AM            QUEENS   Vehicle Accident - Other   \n",
       "\n",
       "  INCIDENT_CLASSIFICATION_GROUP  DISPATCH_RESPONSE_SECONDS_QY  \\\n",
       "0           Medical Emergencies                             9   \n",
       "1           Medical Emergencies                           996   \n",
       "2           Medical Emergencies                             7   \n",
       "3        NonMedical Emergencies                            55   \n",
       "4        NonMedical Emergencies                            16   \n",
       "\n",
       "  FIRST_ASSIGNMENT_DATETIME FIRST_ACTIVATION_DATETIME FIRST_ON_SCENE_DATETIME  \\\n",
       "0    01/01/2018 08:15:52 AM    01/01/2018 08:16:18 AM                     NaN   \n",
       "1    01/01/2018 08:33:26 AM    01/01/2018 08:33:50 AM  01/01/2018 08:37:25 AM   \n",
       "2    01/01/2018 08:17:02 AM    01/01/2018 08:17:31 AM  01/01/2018 08:21:21 AM   \n",
       "3    01/01/2018 08:18:27 AM    01/01/2018 08:18:36 AM  01/01/2018 08:23:52 AM   \n",
       "4    01/01/2018 08:19:51 AM    01/01/2018 08:20:14 AM  01/01/2018 08:28:02 AM   \n",
       "\n",
       "  INCIDENT_CLOSE_DATETIME  INCIDENT_RESPONSE_SECONDS_QY  \\\n",
       "0  01/01/2018 08:21:25 AM                             0   \n",
       "1  01/01/2018 08:45:42 AM                          1235   \n",
       "2  01/01/2018 08:29:49 AM                           266   \n",
       "3  01/01/2018 08:27:21 AM                           380   \n",
       "4  01/01/2018 09:15:11 AM                           507   \n",
       "\n",
       "   INCIDENT_TRAVEL_TM_SECONDS_QY  ENGINES_ASSIGNED_QUANTITY  \\\n",
       "0                              0                          1   \n",
       "1                            239                          1   \n",
       "2                            259                          1   \n",
       "3                            325                          1   \n",
       "4                            491                          2   \n",
       "\n",
       "   LADDERS_ASSIGNED_QUANTITY  OTHER_UNITS_ASSIGNED_QUANTITY  \n",
       "0                          0                              0  \n",
       "1                          0                              0  \n",
       "2                          0                              0  \n",
       "3                          0                              1  \n",
       "4                          2                              1  "
      ]
     },
     "execution_count": 57,
     "metadata": {},
     "output_type": "execute_result"
    }
   ],
   "source": [
    "df.head()"
   ]
  },
  {
   "cell_type": "code",
   "execution_count": 58,
   "metadata": {},
   "outputs": [
    {
     "data": {
      "text/html": [
       "<div>\n",
       "<style scoped>\n",
       "    .dataframe tbody tr th:only-of-type {\n",
       "        vertical-align: middle;\n",
       "    }\n",
       "\n",
       "    .dataframe tbody tr th {\n",
       "        vertical-align: top;\n",
       "    }\n",
       "\n",
       "    .dataframe thead th {\n",
       "        text-align: right;\n",
       "    }\n",
       "</style>\n",
       "<table border=\"1\" class=\"dataframe\">\n",
       "  <thead>\n",
       "    <tr style=\"text-align: right;\">\n",
       "      <th></th>\n",
       "      <th>INCIDENT_DATETIME</th>\n",
       "      <th>ALARM_BOX_BOROUGH</th>\n",
       "      <th>INCIDENT_CLASSIFICATION</th>\n",
       "      <th>INCIDENT_CLASSIFICATION_GROUP</th>\n",
       "      <th>DISPATCH_RESPONSE_SECONDS_QY</th>\n",
       "      <th>FIRST_ASSIGNMENT_DATETIME</th>\n",
       "      <th>FIRST_ACTIVATION_DATETIME</th>\n",
       "      <th>FIRST_ON_SCENE_DATETIME</th>\n",
       "      <th>INCIDENT_CLOSE_DATETIME</th>\n",
       "      <th>INCIDENT_RESPONSE_SECONDS_QY</th>\n",
       "      <th>INCIDENT_TRAVEL_TM_SECONDS_QY</th>\n",
       "      <th>ENGINES_ASSIGNED_QUANTITY</th>\n",
       "      <th>LADDERS_ASSIGNED_QUANTITY</th>\n",
       "      <th>OTHER_UNITS_ASSIGNED_QUANTITY</th>\n",
       "    </tr>\n",
       "  </thead>\n",
       "  <tbody>\n",
       "    <tr>\n",
       "      <td>618683</td>\n",
       "      <td>12/31/2018 11:56:49 PM</td>\n",
       "      <td>MANHATTAN</td>\n",
       "      <td>Alarm System - Defective</td>\n",
       "      <td>NonMedical Emergencies</td>\n",
       "      <td>39</td>\n",
       "      <td>12/31/2018 11:57:28 PM</td>\n",
       "      <td>12/31/2018 11:57:47 PM</td>\n",
       "      <td>01/01/2019 12:00:51 AM</td>\n",
       "      <td>01/01/2019 12:14:05 AM</td>\n",
       "      <td>242</td>\n",
       "      <td>203</td>\n",
       "      <td>3</td>\n",
       "      <td>2</td>\n",
       "      <td>1</td>\n",
       "    </tr>\n",
       "    <tr>\n",
       "      <td>618684</td>\n",
       "      <td>12/31/2018 11:57:02 PM</td>\n",
       "      <td>BRONX</td>\n",
       "      <td>Carbon Monoxide - Code 1 - Investigation</td>\n",
       "      <td>NonMedical Emergencies</td>\n",
       "      <td>136</td>\n",
       "      <td>12/31/2018 11:59:18 PM</td>\n",
       "      <td>01/01/2019 12:02:23 AM</td>\n",
       "      <td>01/01/2019 12:02:55 AM</td>\n",
       "      <td>01/01/2019 12:09:40 AM</td>\n",
       "      <td>353</td>\n",
       "      <td>217</td>\n",
       "      <td>1</td>\n",
       "      <td>1</td>\n",
       "      <td>0</td>\n",
       "    </tr>\n",
       "    <tr>\n",
       "      <td>618685</td>\n",
       "      <td>12/31/2018 11:57:05 PM</td>\n",
       "      <td>BRONX</td>\n",
       "      <td>Medical - EMS Link 10-91</td>\n",
       "      <td>Medical Emergencies</td>\n",
       "      <td>4</td>\n",
       "      <td>12/31/2018 11:57:09 PM</td>\n",
       "      <td>12/31/2018 11:57:36 PM</td>\n",
       "      <td>NaN</td>\n",
       "      <td>12/31/2018 11:58:07 PM</td>\n",
       "      <td>0</td>\n",
       "      <td>0</td>\n",
       "      <td>1</td>\n",
       "      <td>0</td>\n",
       "      <td>0</td>\n",
       "    </tr>\n",
       "    <tr>\n",
       "      <td>618686</td>\n",
       "      <td>12/31/2018 11:58:14 PM</td>\n",
       "      <td>BROOKLYN</td>\n",
       "      <td>Medical - Assist Civilian</td>\n",
       "      <td>Medical Emergencies</td>\n",
       "      <td>4</td>\n",
       "      <td>12/31/2018 11:58:18 PM</td>\n",
       "      <td>12/31/2018 11:58:57 PM</td>\n",
       "      <td>01/01/2019 12:02:40 AM</td>\n",
       "      <td>01/01/2019 01:03:33 AM</td>\n",
       "      <td>266</td>\n",
       "      <td>262</td>\n",
       "      <td>1</td>\n",
       "      <td>0</td>\n",
       "      <td>0</td>\n",
       "    </tr>\n",
       "    <tr>\n",
       "      <td>618687</td>\n",
       "      <td>12/31/2018 11:59:59 PM</td>\n",
       "      <td>QUEENS</td>\n",
       "      <td>Medical - PD Link 10-91</td>\n",
       "      <td>Medical Emergencies</td>\n",
       "      <td>5</td>\n",
       "      <td>01/01/2019 12:00:04 AM</td>\n",
       "      <td>01/01/2019 12:00:30 AM</td>\n",
       "      <td>NaN</td>\n",
       "      <td>01/01/2019 12:04:57 AM</td>\n",
       "      <td>0</td>\n",
       "      <td>0</td>\n",
       "      <td>1</td>\n",
       "      <td>0</td>\n",
       "      <td>0</td>\n",
       "    </tr>\n",
       "  </tbody>\n",
       "</table>\n",
       "</div>"
      ],
      "text/plain": [
       "             INCIDENT_DATETIME ALARM_BOX_BOROUGH  \\\n",
       "618683  12/31/2018 11:56:49 PM         MANHATTAN   \n",
       "618684  12/31/2018 11:57:02 PM             BRONX   \n",
       "618685  12/31/2018 11:57:05 PM             BRONX   \n",
       "618686  12/31/2018 11:58:14 PM          BROOKLYN   \n",
       "618687  12/31/2018 11:59:59 PM            QUEENS   \n",
       "\n",
       "                         INCIDENT_CLASSIFICATION  \\\n",
       "618683                  Alarm System - Defective   \n",
       "618684  Carbon Monoxide - Code 1 - Investigation   \n",
       "618685                  Medical - EMS Link 10-91   \n",
       "618686                 Medical - Assist Civilian   \n",
       "618687                   Medical - PD Link 10-91   \n",
       "\n",
       "       INCIDENT_CLASSIFICATION_GROUP  DISPATCH_RESPONSE_SECONDS_QY  \\\n",
       "618683        NonMedical Emergencies                            39   \n",
       "618684        NonMedical Emergencies                           136   \n",
       "618685           Medical Emergencies                             4   \n",
       "618686           Medical Emergencies                             4   \n",
       "618687           Medical Emergencies                             5   \n",
       "\n",
       "       FIRST_ASSIGNMENT_DATETIME FIRST_ACTIVATION_DATETIME  \\\n",
       "618683    12/31/2018 11:57:28 PM    12/31/2018 11:57:47 PM   \n",
       "618684    12/31/2018 11:59:18 PM    01/01/2019 12:02:23 AM   \n",
       "618685    12/31/2018 11:57:09 PM    12/31/2018 11:57:36 PM   \n",
       "618686    12/31/2018 11:58:18 PM    12/31/2018 11:58:57 PM   \n",
       "618687    01/01/2019 12:00:04 AM    01/01/2019 12:00:30 AM   \n",
       "\n",
       "       FIRST_ON_SCENE_DATETIME INCIDENT_CLOSE_DATETIME  \\\n",
       "618683  01/01/2019 12:00:51 AM  01/01/2019 12:14:05 AM   \n",
       "618684  01/01/2019 12:02:55 AM  01/01/2019 12:09:40 AM   \n",
       "618685                     NaN  12/31/2018 11:58:07 PM   \n",
       "618686  01/01/2019 12:02:40 AM  01/01/2019 01:03:33 AM   \n",
       "618687                     NaN  01/01/2019 12:04:57 AM   \n",
       "\n",
       "        INCIDENT_RESPONSE_SECONDS_QY  INCIDENT_TRAVEL_TM_SECONDS_QY  \\\n",
       "618683                           242                            203   \n",
       "618684                           353                            217   \n",
       "618685                             0                              0   \n",
       "618686                           266                            262   \n",
       "618687                             0                              0   \n",
       "\n",
       "        ENGINES_ASSIGNED_QUANTITY  LADDERS_ASSIGNED_QUANTITY  \\\n",
       "618683                          3                          2   \n",
       "618684                          1                          1   \n",
       "618685                          1                          0   \n",
       "618686                          1                          0   \n",
       "618687                          1                          0   \n",
       "\n",
       "        OTHER_UNITS_ASSIGNED_QUANTITY  \n",
       "618683                              1  \n",
       "618684                              0  \n",
       "618685                              0  \n",
       "618686                              0  \n",
       "618687                              0  "
      ]
     },
     "execution_count": 58,
     "metadata": {},
     "output_type": "execute_result"
    }
   ],
   "source": [
    "df.tail()"
   ]
  },
  {
   "cell_type": "markdown",
   "metadata": {},
   "source": [
    "## Data Cleaning "
   ]
  },
  {
   "cell_type": "markdown",
   "metadata": {},
   "source": [
    "Data cleaning is a process of removing or correcting inaccurate records from our dataset which can create hurdles in performing data analysis and can lead us to inaccurate predictions. \n",
    "\n",
    "Usually large datasets tend to have missing values. Missing values can give us errors or abnormal analysis and can also effect the other accurate records in the dataset. Hence, it is necessary to remove or modify the missing values. \n",
    "\n",
    "We will now check for missing values in both our datasets. "
   ]
  },
  {
   "cell_type": "markdown",
   "metadata": {},
   "source": [
    "### Removing empty rows from data "
   ]
  },
  {
   "cell_type": "code",
   "execution_count": 60,
   "metadata": {},
   "outputs": [
    {
     "data": {
      "text/plain": [
       "INCIDENT_DATETIME                     0\n",
       "ALARM_BOX_BOROUGH                     0\n",
       "INCIDENT_CLASSIFICATION               0\n",
       "INCIDENT_CLASSIFICATION_GROUP         0\n",
       "DISPATCH_RESPONSE_SECONDS_QY          0\n",
       "FIRST_ASSIGNMENT_DATETIME          3442\n",
       "FIRST_ACTIVATION_DATETIME          5694\n",
       "FIRST_ON_SCENE_DATETIME          110723\n",
       "INCIDENT_CLOSE_DATETIME               0\n",
       "INCIDENT_RESPONSE_SECONDS_QY          0\n",
       "INCIDENT_TRAVEL_TM_SECONDS_QY         0\n",
       "ENGINES_ASSIGNED_QUANTITY             0\n",
       "LADDERS_ASSIGNED_QUANTITY             0\n",
       "OTHER_UNITS_ASSIGNED_QUANTITY         0\n",
       "dtype: int64"
      ]
     },
     "execution_count": 60,
     "metadata": {},
     "output_type": "execute_result"
    }
   ],
   "source": [
    "df.isna().sum()"
   ]
  },
  {
   "cell_type": "code",
   "execution_count": 61,
   "metadata": {},
   "outputs": [],
   "source": [
    "df=df.dropna()"
   ]
  },
  {
   "cell_type": "code",
   "execution_count": 62,
   "metadata": {},
   "outputs": [
    {
     "data": {
      "text/plain": [
       "INCIDENT_DATETIME                0\n",
       "ALARM_BOX_BOROUGH                0\n",
       "INCIDENT_CLASSIFICATION          0\n",
       "INCIDENT_CLASSIFICATION_GROUP    0\n",
       "DISPATCH_RESPONSE_SECONDS_QY     0\n",
       "FIRST_ASSIGNMENT_DATETIME        0\n",
       "FIRST_ACTIVATION_DATETIME        0\n",
       "FIRST_ON_SCENE_DATETIME          0\n",
       "INCIDENT_CLOSE_DATETIME          0\n",
       "INCIDENT_RESPONSE_SECONDS_QY     0\n",
       "INCIDENT_TRAVEL_TM_SECONDS_QY    0\n",
       "ENGINES_ASSIGNED_QUANTITY        0\n",
       "LADDERS_ASSIGNED_QUANTITY        0\n",
       "OTHER_UNITS_ASSIGNED_QUANTITY    0\n",
       "dtype: int64"
      ]
     },
     "execution_count": 62,
     "metadata": {},
     "output_type": "execute_result"
    }
   ],
   "source": [
    "df.isnull().sum()"
   ]
  },
  {
   "cell_type": "markdown",
   "metadata": {},
   "source": [
    "### Reseting the index"
   ]
  },
  {
   "cell_type": "code",
   "execution_count": 63,
   "metadata": {},
   "outputs": [
    {
     "data": {
      "text/html": [
       "<div>\n",
       "<style scoped>\n",
       "    .dataframe tbody tr th:only-of-type {\n",
       "        vertical-align: middle;\n",
       "    }\n",
       "\n",
       "    .dataframe tbody tr th {\n",
       "        vertical-align: top;\n",
       "    }\n",
       "\n",
       "    .dataframe thead th {\n",
       "        text-align: right;\n",
       "    }\n",
       "</style>\n",
       "<table border=\"1\" class=\"dataframe\">\n",
       "  <thead>\n",
       "    <tr style=\"text-align: right;\">\n",
       "      <th></th>\n",
       "      <th>INCIDENT_DATETIME</th>\n",
       "      <th>ALARM_BOX_BOROUGH</th>\n",
       "      <th>INCIDENT_CLASSIFICATION</th>\n",
       "      <th>INCIDENT_CLASSIFICATION_GROUP</th>\n",
       "      <th>DISPATCH_RESPONSE_SECONDS_QY</th>\n",
       "      <th>FIRST_ASSIGNMENT_DATETIME</th>\n",
       "      <th>FIRST_ACTIVATION_DATETIME</th>\n",
       "      <th>FIRST_ON_SCENE_DATETIME</th>\n",
       "      <th>INCIDENT_CLOSE_DATETIME</th>\n",
       "      <th>INCIDENT_RESPONSE_SECONDS_QY</th>\n",
       "      <th>INCIDENT_TRAVEL_TM_SECONDS_QY</th>\n",
       "      <th>ENGINES_ASSIGNED_QUANTITY</th>\n",
       "      <th>LADDERS_ASSIGNED_QUANTITY</th>\n",
       "      <th>OTHER_UNITS_ASSIGNED_QUANTITY</th>\n",
       "    </tr>\n",
       "  </thead>\n",
       "  <tbody>\n",
       "    <tr>\n",
       "      <td>0</td>\n",
       "      <td>01/01/2018 08:16:50 AM</td>\n",
       "      <td>BRONX</td>\n",
       "      <td>Medical - Assist Civilian</td>\n",
       "      <td>Medical Emergencies</td>\n",
       "      <td>996</td>\n",
       "      <td>01/01/2018 08:33:26 AM</td>\n",
       "      <td>01/01/2018 08:33:50 AM</td>\n",
       "      <td>01/01/2018 08:37:25 AM</td>\n",
       "      <td>01/01/2018 08:45:42 AM</td>\n",
       "      <td>1235</td>\n",
       "      <td>239</td>\n",
       "      <td>1</td>\n",
       "      <td>0</td>\n",
       "      <td>0</td>\n",
       "    </tr>\n",
       "    <tr>\n",
       "      <td>1</td>\n",
       "      <td>01/01/2018 08:16:55 AM</td>\n",
       "      <td>BROOKLYN</td>\n",
       "      <td>Medical - Assist Civilian</td>\n",
       "      <td>Medical Emergencies</td>\n",
       "      <td>7</td>\n",
       "      <td>01/01/2018 08:17:02 AM</td>\n",
       "      <td>01/01/2018 08:17:31 AM</td>\n",
       "      <td>01/01/2018 08:21:21 AM</td>\n",
       "      <td>01/01/2018 08:29:49 AM</td>\n",
       "      <td>266</td>\n",
       "      <td>259</td>\n",
       "      <td>1</td>\n",
       "      <td>0</td>\n",
       "      <td>0</td>\n",
       "    </tr>\n",
       "    <tr>\n",
       "      <td>2</td>\n",
       "      <td>01/01/2018 08:17:32 AM</td>\n",
       "      <td>MANHATTAN</td>\n",
       "      <td>Alarm System - Defective</td>\n",
       "      <td>NonMedical Emergencies</td>\n",
       "      <td>55</td>\n",
       "      <td>01/01/2018 08:18:27 AM</td>\n",
       "      <td>01/01/2018 08:18:36 AM</td>\n",
       "      <td>01/01/2018 08:23:52 AM</td>\n",
       "      <td>01/01/2018 08:27:21 AM</td>\n",
       "      <td>380</td>\n",
       "      <td>325</td>\n",
       "      <td>1</td>\n",
       "      <td>0</td>\n",
       "      <td>1</td>\n",
       "    </tr>\n",
       "    <tr>\n",
       "      <td>3</td>\n",
       "      <td>01/01/2018 08:19:35 AM</td>\n",
       "      <td>QUEENS</td>\n",
       "      <td>Vehicle Accident - Other</td>\n",
       "      <td>NonMedical Emergencies</td>\n",
       "      <td>16</td>\n",
       "      <td>01/01/2018 08:19:51 AM</td>\n",
       "      <td>01/01/2018 08:20:14 AM</td>\n",
       "      <td>01/01/2018 08:28:02 AM</td>\n",
       "      <td>01/01/2018 09:15:11 AM</td>\n",
       "      <td>507</td>\n",
       "      <td>491</td>\n",
       "      <td>2</td>\n",
       "      <td>2</td>\n",
       "      <td>1</td>\n",
       "    </tr>\n",
       "    <tr>\n",
       "      <td>4</td>\n",
       "      <td>01/01/2018 08:19:45 AM</td>\n",
       "      <td>BROOKLYN</td>\n",
       "      <td>Medical - Assist Civilian</td>\n",
       "      <td>Medical Emergencies</td>\n",
       "      <td>6</td>\n",
       "      <td>01/01/2018 08:19:51 AM</td>\n",
       "      <td>01/01/2018 08:20:49 AM</td>\n",
       "      <td>01/01/2018 08:27:57 AM</td>\n",
       "      <td>01/01/2018 08:39:52 AM</td>\n",
       "      <td>492</td>\n",
       "      <td>486</td>\n",
       "      <td>1</td>\n",
       "      <td>0</td>\n",
       "      <td>0</td>\n",
       "    </tr>\n",
       "  </tbody>\n",
       "</table>\n",
       "</div>"
      ],
      "text/plain": [
       "        INCIDENT_DATETIME ALARM_BOX_BOROUGH    INCIDENT_CLASSIFICATION  \\\n",
       "0  01/01/2018 08:16:50 AM             BRONX  Medical - Assist Civilian   \n",
       "1  01/01/2018 08:16:55 AM          BROOKLYN  Medical - Assist Civilian   \n",
       "2  01/01/2018 08:17:32 AM         MANHATTAN   Alarm System - Defective   \n",
       "3  01/01/2018 08:19:35 AM            QUEENS   Vehicle Accident - Other   \n",
       "4  01/01/2018 08:19:45 AM          BROOKLYN  Medical - Assist Civilian   \n",
       "\n",
       "  INCIDENT_CLASSIFICATION_GROUP  DISPATCH_RESPONSE_SECONDS_QY  \\\n",
       "0           Medical Emergencies                           996   \n",
       "1           Medical Emergencies                             7   \n",
       "2        NonMedical Emergencies                            55   \n",
       "3        NonMedical Emergencies                            16   \n",
       "4           Medical Emergencies                             6   \n",
       "\n",
       "  FIRST_ASSIGNMENT_DATETIME FIRST_ACTIVATION_DATETIME FIRST_ON_SCENE_DATETIME  \\\n",
       "0    01/01/2018 08:33:26 AM    01/01/2018 08:33:50 AM  01/01/2018 08:37:25 AM   \n",
       "1    01/01/2018 08:17:02 AM    01/01/2018 08:17:31 AM  01/01/2018 08:21:21 AM   \n",
       "2    01/01/2018 08:18:27 AM    01/01/2018 08:18:36 AM  01/01/2018 08:23:52 AM   \n",
       "3    01/01/2018 08:19:51 AM    01/01/2018 08:20:14 AM  01/01/2018 08:28:02 AM   \n",
       "4    01/01/2018 08:19:51 AM    01/01/2018 08:20:49 AM  01/01/2018 08:27:57 AM   \n",
       "\n",
       "  INCIDENT_CLOSE_DATETIME  INCIDENT_RESPONSE_SECONDS_QY  \\\n",
       "0  01/01/2018 08:45:42 AM                          1235   \n",
       "1  01/01/2018 08:29:49 AM                           266   \n",
       "2  01/01/2018 08:27:21 AM                           380   \n",
       "3  01/01/2018 09:15:11 AM                           507   \n",
       "4  01/01/2018 08:39:52 AM                           492   \n",
       "\n",
       "   INCIDENT_TRAVEL_TM_SECONDS_QY  ENGINES_ASSIGNED_QUANTITY  \\\n",
       "0                            239                          1   \n",
       "1                            259                          1   \n",
       "2                            325                          1   \n",
       "3                            491                          2   \n",
       "4                            486                          1   \n",
       "\n",
       "   LADDERS_ASSIGNED_QUANTITY  OTHER_UNITS_ASSIGNED_QUANTITY  \n",
       "0                          0                              0  \n",
       "1                          0                              0  \n",
       "2                          0                              1  \n",
       "3                          2                              1  \n",
       "4                          0                              0  "
      ]
     },
     "execution_count": 63,
     "metadata": {},
     "output_type": "execute_result"
    }
   ],
   "source": [
    "df.reset_index(inplace=True)\n",
    "df=df.drop('index',axis=1)\n",
    "df.head()"
   ]
  },
  {
   "cell_type": "markdown",
   "metadata": {},
   "source": [
    "### Format Conversion \n",
    "Datatime in various columns are given in 12 hours and 24 hours format. \n",
    "So converting every columns every rows to 24 hours format. "
   ]
  },
  {
   "cell_type": "code",
   "execution_count": 68,
   "metadata": {},
   "outputs": [],
   "source": [
    "df[\"INCIDENT_DATETIME\"]=df[\"INCIDENT_DATETIME\"].apply(pd.to_datetime)"
   ]
  },
  {
   "cell_type": "code",
   "execution_count": 69,
   "metadata": {},
   "outputs": [],
   "source": [
    "df[\"FIRST_ASSIGNMENT_DATETIME\"]=df[\"FIRST_ASSIGNMENT_DATETIME\"].apply(pd.to_datetime)"
   ]
  },
  {
   "cell_type": "code",
   "execution_count": 70,
   "metadata": {},
   "outputs": [],
   "source": [
    "df[\"FIRST_ON_SCENE_DATETIME\"]=df[\"FIRST_ON_SCENE_DATETIME\"].apply(pd.to_datetime)"
   ]
  },
  {
   "cell_type": "code",
   "execution_count": 71,
   "metadata": {},
   "outputs": [],
   "source": [
    "df[\"FIRST_ACTIVATION_DATETIME\"]=df[\"FIRST_ACTIVATION_DATETIME\"].apply(pd.to_datetime)"
   ]
  },
  {
   "cell_type": "code",
   "execution_count": 72,
   "metadata": {},
   "outputs": [],
   "source": [
    "df[\"INCIDENT_CLOSE_DATETIME\"]=df[\"INCIDENT_CLOSE_DATETIME\"].apply(pd.to_datetime)"
   ]
  },
  {
   "cell_type": "code",
   "execution_count": 74,
   "metadata": {},
   "outputs": [
    {
     "data": {
      "text/html": [
       "<div>\n",
       "<style scoped>\n",
       "    .dataframe tbody tr th:only-of-type {\n",
       "        vertical-align: middle;\n",
       "    }\n",
       "\n",
       "    .dataframe tbody tr th {\n",
       "        vertical-align: top;\n",
       "    }\n",
       "\n",
       "    .dataframe thead th {\n",
       "        text-align: right;\n",
       "    }\n",
       "</style>\n",
       "<table border=\"1\" class=\"dataframe\">\n",
       "  <thead>\n",
       "    <tr style=\"text-align: right;\">\n",
       "      <th></th>\n",
       "      <th>INCIDENT_DATETIME</th>\n",
       "      <th>ALARM_BOX_BOROUGH</th>\n",
       "      <th>INCIDENT_CLASSIFICATION</th>\n",
       "      <th>INCIDENT_CLASSIFICATION_GROUP</th>\n",
       "      <th>DISPATCH_RESPONSE_SECONDS_QY</th>\n",
       "      <th>FIRST_ASSIGNMENT_DATETIME</th>\n",
       "      <th>FIRST_ACTIVATION_DATETIME</th>\n",
       "      <th>FIRST_ON_SCENE_DATETIME</th>\n",
       "      <th>INCIDENT_CLOSE_DATETIME</th>\n",
       "      <th>INCIDENT_RESPONSE_SECONDS_QY</th>\n",
       "      <th>INCIDENT_TRAVEL_TM_SECONDS_QY</th>\n",
       "      <th>ENGINES_ASSIGNED_QUANTITY</th>\n",
       "      <th>LADDERS_ASSIGNED_QUANTITY</th>\n",
       "      <th>OTHER_UNITS_ASSIGNED_QUANTITY</th>\n",
       "    </tr>\n",
       "  </thead>\n",
       "  <tbody>\n",
       "    <tr>\n",
       "      <td>0</td>\n",
       "      <td>2018-01-01 08:16:50</td>\n",
       "      <td>BRONX</td>\n",
       "      <td>Medical - Assist Civilian</td>\n",
       "      <td>Medical Emergencies</td>\n",
       "      <td>996</td>\n",
       "      <td>2018-01-01 08:33:26</td>\n",
       "      <td>2018-01-01 08:33:50</td>\n",
       "      <td>2018-01-01 08:37:25</td>\n",
       "      <td>2018-01-01 08:45:42</td>\n",
       "      <td>1235</td>\n",
       "      <td>239</td>\n",
       "      <td>1</td>\n",
       "      <td>0</td>\n",
       "      <td>0</td>\n",
       "    </tr>\n",
       "    <tr>\n",
       "      <td>1</td>\n",
       "      <td>2018-01-01 08:16:55</td>\n",
       "      <td>BROOKLYN</td>\n",
       "      <td>Medical - Assist Civilian</td>\n",
       "      <td>Medical Emergencies</td>\n",
       "      <td>7</td>\n",
       "      <td>2018-01-01 08:17:02</td>\n",
       "      <td>2018-01-01 08:17:31</td>\n",
       "      <td>2018-01-01 08:21:21</td>\n",
       "      <td>2018-01-01 08:29:49</td>\n",
       "      <td>266</td>\n",
       "      <td>259</td>\n",
       "      <td>1</td>\n",
       "      <td>0</td>\n",
       "      <td>0</td>\n",
       "    </tr>\n",
       "    <tr>\n",
       "      <td>2</td>\n",
       "      <td>2018-01-01 08:17:32</td>\n",
       "      <td>MANHATTAN</td>\n",
       "      <td>Alarm System - Defective</td>\n",
       "      <td>NonMedical Emergencies</td>\n",
       "      <td>55</td>\n",
       "      <td>2018-01-01 08:18:27</td>\n",
       "      <td>2018-01-01 08:18:36</td>\n",
       "      <td>2018-01-01 08:23:52</td>\n",
       "      <td>2018-01-01 08:27:21</td>\n",
       "      <td>380</td>\n",
       "      <td>325</td>\n",
       "      <td>1</td>\n",
       "      <td>0</td>\n",
       "      <td>1</td>\n",
       "    </tr>\n",
       "    <tr>\n",
       "      <td>3</td>\n",
       "      <td>2018-01-01 08:19:35</td>\n",
       "      <td>QUEENS</td>\n",
       "      <td>Vehicle Accident - Other</td>\n",
       "      <td>NonMedical Emergencies</td>\n",
       "      <td>16</td>\n",
       "      <td>2018-01-01 08:19:51</td>\n",
       "      <td>2018-01-01 08:20:14</td>\n",
       "      <td>2018-01-01 08:28:02</td>\n",
       "      <td>2018-01-01 09:15:11</td>\n",
       "      <td>507</td>\n",
       "      <td>491</td>\n",
       "      <td>2</td>\n",
       "      <td>2</td>\n",
       "      <td>1</td>\n",
       "    </tr>\n",
       "    <tr>\n",
       "      <td>4</td>\n",
       "      <td>2018-01-01 08:19:45</td>\n",
       "      <td>BROOKLYN</td>\n",
       "      <td>Medical - Assist Civilian</td>\n",
       "      <td>Medical Emergencies</td>\n",
       "      <td>6</td>\n",
       "      <td>2018-01-01 08:19:51</td>\n",
       "      <td>2018-01-01 08:20:49</td>\n",
       "      <td>2018-01-01 08:27:57</td>\n",
       "      <td>2018-01-01 08:39:52</td>\n",
       "      <td>492</td>\n",
       "      <td>486</td>\n",
       "      <td>1</td>\n",
       "      <td>0</td>\n",
       "      <td>0</td>\n",
       "    </tr>\n",
       "  </tbody>\n",
       "</table>\n",
       "</div>"
      ],
      "text/plain": [
       "    INCIDENT_DATETIME ALARM_BOX_BOROUGH    INCIDENT_CLASSIFICATION  \\\n",
       "0 2018-01-01 08:16:50             BRONX  Medical - Assist Civilian   \n",
       "1 2018-01-01 08:16:55          BROOKLYN  Medical - Assist Civilian   \n",
       "2 2018-01-01 08:17:32         MANHATTAN   Alarm System - Defective   \n",
       "3 2018-01-01 08:19:35            QUEENS   Vehicle Accident - Other   \n",
       "4 2018-01-01 08:19:45          BROOKLYN  Medical - Assist Civilian   \n",
       "\n",
       "  INCIDENT_CLASSIFICATION_GROUP  DISPATCH_RESPONSE_SECONDS_QY  \\\n",
       "0           Medical Emergencies                           996   \n",
       "1           Medical Emergencies                             7   \n",
       "2        NonMedical Emergencies                            55   \n",
       "3        NonMedical Emergencies                            16   \n",
       "4           Medical Emergencies                             6   \n",
       "\n",
       "  FIRST_ASSIGNMENT_DATETIME FIRST_ACTIVATION_DATETIME FIRST_ON_SCENE_DATETIME  \\\n",
       "0       2018-01-01 08:33:26       2018-01-01 08:33:50     2018-01-01 08:37:25   \n",
       "1       2018-01-01 08:17:02       2018-01-01 08:17:31     2018-01-01 08:21:21   \n",
       "2       2018-01-01 08:18:27       2018-01-01 08:18:36     2018-01-01 08:23:52   \n",
       "3       2018-01-01 08:19:51       2018-01-01 08:20:14     2018-01-01 08:28:02   \n",
       "4       2018-01-01 08:19:51       2018-01-01 08:20:49     2018-01-01 08:27:57   \n",
       "\n",
       "  INCIDENT_CLOSE_DATETIME  INCIDENT_RESPONSE_SECONDS_QY  \\\n",
       "0     2018-01-01 08:45:42                          1235   \n",
       "1     2018-01-01 08:29:49                           266   \n",
       "2     2018-01-01 08:27:21                           380   \n",
       "3     2018-01-01 09:15:11                           507   \n",
       "4     2018-01-01 08:39:52                           492   \n",
       "\n",
       "   INCIDENT_TRAVEL_TM_SECONDS_QY  ENGINES_ASSIGNED_QUANTITY  \\\n",
       "0                            239                          1   \n",
       "1                            259                          1   \n",
       "2                            325                          1   \n",
       "3                            491                          2   \n",
       "4                            486                          1   \n",
       "\n",
       "   LADDERS_ASSIGNED_QUANTITY  OTHER_UNITS_ASSIGNED_QUANTITY  \n",
       "0                          0                              0  \n",
       "1                          0                              0  \n",
       "2                          0                              1  \n",
       "3                          2                              1  \n",
       "4                          0                              0  "
      ]
     },
     "execution_count": 74,
     "metadata": {},
     "output_type": "execute_result"
    }
   ],
   "source": [
    "df.head()"
   ]
  },
  {
   "cell_type": "markdown",
   "metadata": {},
   "source": [
    "##  Exploratory Data Analysis"
   ]
  },
  {
   "cell_type": "markdown",
   "metadata": {},
   "source": [
    "Exploratory data analysis (EDA) is an approach to analyzing data sets to summarize their main characteristics, often with visual methods. A statistical model can be used or not, but primarily EDA is for seeing what the data can tell us beyond the formal modeling or hypothesis testing task."
   ]
  },
  {
   "cell_type": "markdown",
   "metadata": {},
   "source": [
    "#### 1. Bar plot of numbers incidents in all the months of 2018"
   ]
  },
  {
   "cell_type": "code",
   "execution_count": 75,
   "metadata": {},
   "outputs": [
    {
     "data": {
      "text/plain": [
       "Text(0, 0.5, 'Num of INCIDENTS')"
      ]
     },
     "execution_count": 75,
     "metadata": {},
     "output_type": "execute_result"
    },
    {
     "data": {
      "image/png": "[encoded data removed]",
      "text/plain": [
       "<Figure size 432x288 with 1 Axes>"
      ]
     },
     "metadata": {
      "needs_background": "light"
     },
     "output_type": "display_data"
    }
   ],
   "source": [
    "df[\"INCIDENT_DATETIME\"].groupby(df['INCIDENT_DATETIME'].dt.month).count().plot(kind='bar')\n",
    "plt.xlabel('MONTHS')\n",
    "plt.ylabel('Num of INCIDENTS')"
   ]
  },
  {
   "cell_type": "markdown",
   "metadata": {},
   "source": [
    "#### 2. Scatter plot of incident closing time on the month of january"
   ]
  },
  {
   "cell_type": "code",
   "execution_count": 76,
   "metadata": {},
   "outputs": [],
   "source": [
    "x = (df['INCIDENT_CLOSE_DATETIME'] - df['INCIDENT_DATETIME']).astype('timedelta64[s]')\n",
    "total_incident_time = x/(60)\n",
    "df['total_incident_time']=total_incident_time\n",
    "total_incident_time_avg = np.mean(total_incident_time)"
   ]
  },
  {
   "cell_type": "code",
   "execution_count": 77,
   "metadata": {},
   "outputs": [],
   "source": [
    "Jan_data = df[df[\"INCIDENT_CLOSE_DATETIME\"].dt.month == 1]"
   ]
  },
  {
   "cell_type": "code",
   "execution_count": 78,
   "metadata": {},
   "outputs": [
    {
     "data": {
      "text/plain": [
       "Text(0, 0.5, 'Incident closing time in seconds')"
      ]
     },
     "execution_count": 78,
     "metadata": {},
     "output_type": "execute_result"
    },
    {
     "data": {
      "image/png": "[encoded data removed]",
      "text/plain": [
       "<Figure size 432x288 with 1 Axes>"
      ]
     },
     "metadata": {
      "needs_background": "light"
     },
     "output_type": "display_data"
    }
   ],
   "source": [
    "plt.scatter(Jan_data['INCIDENT_CLOSE_DATETIME'].dt.day, Jan_data['total_incident_time'])\n",
    "plt.xlabel('January dates')\n",
    "plt.ylabel('Incident closing time in seconds')"
   ]
  },
  {
   "cell_type": "markdown",
   "metadata": {},
   "source": [
    "#### 3. Pie Chart of various categories fire incidents"
   ]
  },
  {
   "cell_type": "code",
   "execution_count": 79,
   "metadata": {},
   "outputs": [
    {
     "data": {
      "image/png": "[encoded data removed]",
      "text/plain": [
       "<Figure size 432x288 with 1 Axes>"
      ]
     },
     "metadata": {},
     "output_type": "display_data"
    }
   ],
   "source": [
    "labels = ('Medical Emergencies','Medical MFAs','NonMedical Emergencies','NonMedical MFAs', 'NonStructural Fires','Structural Fires')\n",
    "INCIDENT_CLASSIFICATION_GROUP_count = pd.value_counts(df['INCIDENT_CLASSIFICATION_GROUP'].values,sort = False)\n",
    "colors = ['#a6ad8a', '#f65641', '#817eb9', '#b87a83', '#feb9b9', '#6f676b']\n",
    "plt.pie(INCIDENT_CLASSIFICATION_GROUP_count, colors=colors, startangle=90,autopct='%1.00f%%',radius = 2)\n",
    "plt.legend(labels,loc=\"upper right\",bbox_to_anchor=(0.10,2.025),prop={'size': 14})\n",
    "\n",
    "plt.show()"
   ]
  },
  {
   "cell_type": "markdown",
   "metadata": {},
   "source": [
    "#### 4. Scatter plot of travelling time on the month of january"
   ]
  },
  {
   "cell_type": "code",
   "execution_count": 80,
   "metadata": {},
   "outputs": [
    {
     "data": {
      "text/plain": [
       "Text(0, 0.5, 'Travel time in seconds')"
      ]
     },
     "execution_count": 80,
     "metadata": {},
     "output_type": "execute_result"
    },
    {
     "data": {
      "image/png": "[encoded data removed]",
      "text/plain": [
       "<Figure size 432x288 with 1 Axes>"
      ]
     },
     "metadata": {
      "needs_background": "light"
     },
     "output_type": "display_data"
    }
   ],
   "source": [
    "\n",
    "plt.scatter(Jan_data['INCIDENT_CLOSE_DATETIME'].dt.day, Jan_data['INCIDENT_TRAVEL_TM_SECONDS_QY'], color = '#E984A6')\n",
    "plt.xlabel('Incidents')\n",
    "plt.ylabel('Travel time in seconds')"
   ]
  },
  {
   "cell_type": "markdown",
   "metadata": {},
   "source": [
    "#### 5. Scatter plot of dispatch response time on the month of january"
   ]
  },
  {
   "cell_type": "code",
   "execution_count": 81,
   "metadata": {},
   "outputs": [
    {
     "data": {
      "text/plain": [
       "Text(0, 0.5, 'Dispatch reponse in seconds')"
      ]
     },
     "execution_count": 81,
     "metadata": {},
     "output_type": "execute_result"
    },
    {
     "data": {
      "image/png": "[encoded data removed]",
      "text/plain": [
       "<Figure size 432x288 with 1 Axes>"
      ]
     },
     "metadata": {
      "needs_background": "light"
     },
     "output_type": "display_data"
    }
   ],
   "source": [
    "plt.scatter(Jan_data['INCIDENT_DATETIME'].dt.day, Jan_data['DISPATCH_RESPONSE_SECONDS_QY'],color = '#41B25C')\n",
    "plt.xlabel('Incidents')\n",
    "plt.ylabel('Dispatch reponse in seconds')"
   ]
  },
  {
   "cell_type": "markdown",
   "metadata": {},
   "source": [
    "#### 6. Average time taken for incident closing, responsing & travelling"
   ]
  },
  {
   "cell_type": "code",
   "execution_count": 82,
   "metadata": {},
   "outputs": [
    {
     "name": "stdout",
     "output_type": "stream",
     "text": [
      "Average value of total time taken to close the case in minutes\n",
      "23.057202098081667\n",
      "Average value of total time taken for fire department to dispatch after the reporting in seconds\n",
      "37.97466330132313\n",
      "Average value of total time taken for fire department to reach incident place in minutes\n",
      "4.918937287611933\n"
     ]
    }
   ],
   "source": [
    "print(\"Average value of total time taken to close the case in minutes\")\n",
    "print(np.mean(total_incident_time))\n",
    "\n",
    "print(\"Average value of total time taken for fire department to dispatch after the reporting in seconds\")\n",
    "print(np.mean(df['DISPATCH_RESPONSE_SECONDS_QY']))\n",
    "\n",
    "\n",
    "print(\"Average value of total time taken for fire department to reach incident place in minutes\")\n",
    "print(np.mean(df['INCIDENT_TRAVEL_TM_SECONDS_QY']/60))\n",
    "\n"
   ]
  },
  {
   "cell_type": "markdown",
   "metadata": {},
   "source": [
    "#### 7. Average time taken to close incident, when incident occured at different time of a day"
   ]
  },
  {
   "cell_type": "code",
   "execution_count": 83,
   "metadata": {},
   "outputs": [],
   "source": [
    "df['incident_dt_hour']=df['INCIDENT_DATETIME'].dt.hour"
   ]
  },
  {
   "cell_type": "code",
   "execution_count": 84,
   "metadata": {},
   "outputs": [],
   "source": [
    "df['incident_dt_hour'] = df.incident_dt_hour.astype(int)"
   ]
  },
  {
   "cell_type": "code",
   "execution_count": 85,
   "metadata": {},
   "outputs": [],
   "source": [
    "hour_range = range(0,24)\n",
    "sum = []\n",
    "avg_time = []\n",
    "for j in hour_range:\n",
    "    sum.append(0) \n",
    "    avg_time.append(0)"
   ]
  },
  {
   "cell_type": "code",
   "execution_count": 86,
   "metadata": {},
   "outputs": [],
   "source": [
    "for i in hour_range:\n",
    "    sum[i] = df[df[\"incident_dt_hour\"] == i]['total_incident_time']\n",
    "    avg_time[i] = np.sum(sum[i])/sum[i].size\n"
   ]
  },
  {
   "cell_type": "code",
   "execution_count": 87,
   "metadata": {},
   "outputs": [
    {
     "data": {
      "text/plain": [
       "Text(0, 0.5, 'average incident close time')"
      ]
     },
     "execution_count": 87,
     "metadata": {},
     "output_type": "execute_result"
    },
    {
     "data": {
      "image/png": "[encoded data removed]",
      "text/plain": [
       "<Figure size 432x288 with 1 Axes>"
      ]
     },
     "metadata": {
      "needs_background": "light"
     },
     "output_type": "display_data"
    }
   ],
   "source": [
    "plt.bar(hour_range, avg_time, color = '#A944B6')\n",
    "plt.xlabel('hours of the day')\n",
    "plt.ylabel('average incident close time')"
   ]
  },
  {
   "cell_type": "markdown",
   "metadata": {},
   "source": [
    "#### 8. Scatter plot of ladder assigned vs incident close time"
   ]
  },
  {
   "cell_type": "code",
   "execution_count": 88,
   "metadata": {},
   "outputs": [
    {
     "data": {
      "text/html": [
       "<div>\n",
       "<style scoped>\n",
       "    .dataframe tbody tr th:only-of-type {\n",
       "        vertical-align: middle;\n",
       "    }\n",
       "\n",
       "    .dataframe tbody tr th {\n",
       "        vertical-align: top;\n",
       "    }\n",
       "\n",
       "    .dataframe thead th {\n",
       "        text-align: right;\n",
       "    }\n",
       "</style>\n",
       "<table border=\"1\" class=\"dataframe\">\n",
       "  <thead>\n",
       "    <tr style=\"text-align: right;\">\n",
       "      <th></th>\n",
       "      <th>LADDERS_ASSIGNED_QUANTITY</th>\n",
       "      <th>total_incident_time</th>\n",
       "    </tr>\n",
       "  </thead>\n",
       "  <tbody>\n",
       "    <tr>\n",
       "      <td>0</td>\n",
       "      <td>2</td>\n",
       "      <td>55.600000</td>\n",
       "    </tr>\n",
       "    <tr>\n",
       "      <td>1</td>\n",
       "      <td>1</td>\n",
       "      <td>24.366667</td>\n",
       "    </tr>\n",
       "    <tr>\n",
       "      <td>2</td>\n",
       "      <td>1</td>\n",
       "      <td>23.116667</td>\n",
       "    </tr>\n",
       "    <tr>\n",
       "      <td>3</td>\n",
       "      <td>2</td>\n",
       "      <td>21.033333</td>\n",
       "    </tr>\n",
       "    <tr>\n",
       "      <td>4</td>\n",
       "      <td>1</td>\n",
       "      <td>68.450000</td>\n",
       "    </tr>\n",
       "  </tbody>\n",
       "</table>\n",
       "</div>"
      ],
      "text/plain": [
       "   LADDERS_ASSIGNED_QUANTITY  total_incident_time\n",
       "0                          2            55.600000\n",
       "1                          1            24.366667\n",
       "2                          1            23.116667\n",
       "3                          2            21.033333\n",
       "4                          1            68.450000"
      ]
     },
     "execution_count": 88,
     "metadata": {},
     "output_type": "execute_result"
    }
   ],
   "source": [
    "df_inci_ladd=df[['LADDERS_ASSIGNED_QUANTITY','total_incident_time']]\n",
    "df_inci_ladd= df_inci_ladd.replace(0, np.nan)\n",
    "df_inci_ladd=df_inci_ladd.dropna()\n",
    "df_inci_ladd=df_inci_ladd.astype({'LADDERS_ASSIGNED_QUANTITY':int})\n",
    "df_inci_ladd.reset_index(inplace=True,drop=True)\n",
    "df_inci_ladd.head()"
   ]
  },
  {
   "cell_type": "code",
   "execution_count": 90,
   "metadata": {},
   "outputs": [
    {
     "data": {
      "text/plain": [
       "Text(0.5, 0, 'Number of ladders assigned')"
      ]
     },
     "execution_count": 90,
     "metadata": {},
     "output_type": "execute_result"
    },
    {
     "data": {
      "image/png": "[encoded data removed]",
      "text/plain": [
       "<Figure size 432x288 with 1 Axes>"
      ]
     },
     "metadata": {
      "needs_background": "light"
     },
     "output_type": "display_data"
    }
   ],
   "source": [
    "plt.scatter(df_inci_ladd['LADDERS_ASSIGNED_QUANTITY'],df_inci_ladd['total_incident_time'], color = '#CC84A6')\n",
    "plt.ylabel('Incidents Close Time')\n",
    "plt.xlabel('Number of ladders assigned')"
   ]
  },
  {
   "cell_type": "markdown",
   "metadata": {},
   "source": [
    "####  9. Scatter plot of number of engine assigned vs incident close time"
   ]
  },
  {
   "cell_type": "code",
   "execution_count": 91,
   "metadata": {},
   "outputs": [
    {
     "data": {
      "text/html": [
       "<div>\n",
       "<style scoped>\n",
       "    .dataframe tbody tr th:only-of-type {\n",
       "        vertical-align: middle;\n",
       "    }\n",
       "\n",
       "    .dataframe tbody tr th {\n",
       "        vertical-align: top;\n",
       "    }\n",
       "\n",
       "    .dataframe thead th {\n",
       "        text-align: right;\n",
       "    }\n",
       "</style>\n",
       "<table border=\"1\" class=\"dataframe\">\n",
       "  <thead>\n",
       "    <tr style=\"text-align: right;\">\n",
       "      <th></th>\n",
       "      <th>ENGINES_ASSIGNED_QUANTITY</th>\n",
       "      <th>total_incident_time</th>\n",
       "    </tr>\n",
       "  </thead>\n",
       "  <tbody>\n",
       "    <tr>\n",
       "      <td>0</td>\n",
       "      <td>1</td>\n",
       "      <td>28.866667</td>\n",
       "    </tr>\n",
       "    <tr>\n",
       "      <td>1</td>\n",
       "      <td>1</td>\n",
       "      <td>12.900000</td>\n",
       "    </tr>\n",
       "    <tr>\n",
       "      <td>2</td>\n",
       "      <td>1</td>\n",
       "      <td>9.816667</td>\n",
       "    </tr>\n",
       "    <tr>\n",
       "      <td>3</td>\n",
       "      <td>2</td>\n",
       "      <td>55.600000</td>\n",
       "    </tr>\n",
       "    <tr>\n",
       "      <td>4</td>\n",
       "      <td>1</td>\n",
       "      <td>20.116667</td>\n",
       "    </tr>\n",
       "  </tbody>\n",
       "</table>\n",
       "</div>"
      ],
      "text/plain": [
       "   ENGINES_ASSIGNED_QUANTITY  total_incident_time\n",
       "0                          1            28.866667\n",
       "1                          1            12.900000\n",
       "2                          1             9.816667\n",
       "3                          2            55.600000\n",
       "4                          1            20.116667"
      ]
     },
     "execution_count": 91,
     "metadata": {},
     "output_type": "execute_result"
    }
   ],
   "source": [
    "df_inci_engi=df[['ENGINES_ASSIGNED_QUANTITY','total_incident_time']]\n",
    "df_inci_engi= df_inci_engi.replace(0, np.nan)\n",
    "df_inci_engi=df_inci_engi.dropna()\n",
    "df_inci_engi=df_inci_engi.astype({'ENGINES_ASSIGNED_QUANTITY':int})\n",
    "df_inci_engi.reset_index(inplace=True,drop=True)\n",
    "df_inci_engi.head()"
   ]
  },
  {
   "cell_type": "code",
   "execution_count": 92,
   "metadata": {},
   "outputs": [
    {
     "data": {
      "text/plain": [
       "Text(0.5, 0, 'Number of engines assigned')"
      ]
     },
     "execution_count": 92,
     "metadata": {},
     "output_type": "execute_result"
    },
    {
     "data": {
      "image/png": "[encoded data removed]",
      "text/plain": [
       "<Figure size 432x288 with 1 Axes>"
      ]
     },
     "metadata": {
      "needs_background": "light"
     },
     "output_type": "display_data"
    }
   ],
   "source": [
    "plt.scatter( df_inci_engi['ENGINES_ASSIGNED_QUANTITY'],df_inci_engi['total_incident_time'], color = '#1B84B6')\n",
    "plt.ylabel('Incidents Close Time')\n",
    "plt.xlabel('Number of engines assigned')"
   ]
  },
  {
   "cell_type": "markdown",
   "metadata": {},
   "source": [
    "####  10. Scatter plot of number of other unit assigned vs incident close time"
   ]
  },
  {
   "cell_type": "code",
   "execution_count": 93,
   "metadata": {},
   "outputs": [
    {
     "data": {
      "text/html": [
       "<div>\n",
       "<style scoped>\n",
       "    .dataframe tbody tr th:only-of-type {\n",
       "        vertical-align: middle;\n",
       "    }\n",
       "\n",
       "    .dataframe tbody tr th {\n",
       "        vertical-align: top;\n",
       "    }\n",
       "\n",
       "    .dataframe thead th {\n",
       "        text-align: right;\n",
       "    }\n",
       "</style>\n",
       "<table border=\"1\" class=\"dataframe\">\n",
       "  <thead>\n",
       "    <tr style=\"text-align: right;\">\n",
       "      <th></th>\n",
       "      <th>OTHER_UNITS_ASSIGNED_QUANTITY</th>\n",
       "      <th>total_incident_time</th>\n",
       "    </tr>\n",
       "  </thead>\n",
       "  <tbody>\n",
       "    <tr>\n",
       "      <td>0</td>\n",
       "      <td>1</td>\n",
       "      <td>9.816667</td>\n",
       "    </tr>\n",
       "    <tr>\n",
       "      <td>1</td>\n",
       "      <td>1</td>\n",
       "      <td>55.600000</td>\n",
       "    </tr>\n",
       "    <tr>\n",
       "      <td>2</td>\n",
       "      <td>1</td>\n",
       "      <td>21.033333</td>\n",
       "    </tr>\n",
       "    <tr>\n",
       "      <td>3</td>\n",
       "      <td>2</td>\n",
       "      <td>68.450000</td>\n",
       "    </tr>\n",
       "    <tr>\n",
       "      <td>4</td>\n",
       "      <td>1</td>\n",
       "      <td>14.283333</td>\n",
       "    </tr>\n",
       "  </tbody>\n",
       "</table>\n",
       "</div>"
      ],
      "text/plain": [
       "   OTHER_UNITS_ASSIGNED_QUANTITY  total_incident_time\n",
       "0                              1             9.816667\n",
       "1                              1            55.600000\n",
       "2                              1            21.033333\n",
       "3                              2            68.450000\n",
       "4                              1            14.283333"
      ]
     },
     "execution_count": 93,
     "metadata": {},
     "output_type": "execute_result"
    }
   ],
   "source": [
    "df_inci_ounit=df[['OTHER_UNITS_ASSIGNED_QUANTITY','total_incident_time']]\n",
    "df_inci_ounit= df_inci_ounit.replace(0, np.nan)\n",
    "df_inci_ounit=df_inci_ounit.dropna()\n",
    "df_inci_ounit=df_inci_ounit.astype({'OTHER_UNITS_ASSIGNED_QUANTITY':int})\n",
    "df_inci_ounit.reset_index(inplace=True,drop=True)\n",
    "df_inci_ounit.head()"
   ]
  },
  {
   "cell_type": "code",
   "execution_count": 94,
   "metadata": {},
   "outputs": [
    {
     "data": {
      "text/plain": [
       "Text(0.5, 0, 'Number of other unit assigned')"
      ]
     },
     "execution_count": 94,
     "metadata": {},
     "output_type": "execute_result"
    },
    {
     "data": {
      "image/png": "[encoded data removed]",
      "text/plain": [
       "<Figure size 432x288 with 1 Axes>"
      ]
     },
     "metadata": {
      "needs_background": "light"
     },
     "output_type": "display_data"
    }
   ],
   "source": [
    "plt.scatter(df_inci_ounit['OTHER_UNITS_ASSIGNED_QUANTITY'],df_inci_ounit['total_incident_time'], color = '#FAA4B6')\n",
    "plt.ylabel('Incidents Close Time')\n",
    "plt.xlabel('Number of other unit assigned')"
   ]
  },
  {
   "cell_type": "markdown",
   "metadata": {},
   "source": [
    "####  11. Scatter plot of Incidents TravelTime vs incident close time"
   ]
  },
  {
   "cell_type": "code",
   "execution_count": 96,
   "metadata": {},
   "outputs": [
    {
     "data": {
      "text/plain": [
       "Text(0.5, 0, 'Incidents TravelTime')"
      ]
     },
     "execution_count": 96,
     "metadata": {},
     "output_type": "execute_result"
    },
    {
     "data": {
      "image/png": "[encoded data removed]",
      "text/plain": [
       "<Figure size 432x288 with 1 Axes>"
      ]
     },
     "metadata": {
      "needs_background": "light"
     },
     "output_type": "display_data"
    }
   ],
   "source": [
    "plt.scatter(df['total_incident_time'], df['INCIDENT_TRAVEL_TM_SECONDS_QY'], color = '#FBB4B6')\n",
    "plt.ylabel('Incidents Close Time')\n",
    "plt.xlabel('Incidents TravelTime')"
   ]
  },
  {
   "cell_type": "markdown",
   "metadata": {},
   "source": [
    "#### 12. Heat map to see correlation between various features"
   ]
  },
  {
   "cell_type": "code",
   "execution_count": 157,
   "metadata": {},
   "outputs": [
    {
     "data": {
      "text/html": [
       "<div>\n",
       "<style scoped>\n",
       "    .dataframe tbody tr th:only-of-type {\n",
       "        vertical-align: middle;\n",
       "    }\n",
       "\n",
       "    .dataframe tbody tr th {\n",
       "        vertical-align: top;\n",
       "    }\n",
       "\n",
       "    .dataframe thead th {\n",
       "        text-align: right;\n",
       "    }\n",
       "</style>\n",
       "<table border=\"1\" class=\"dataframe\">\n",
       "  <thead>\n",
       "    <tr style=\"text-align: right;\">\n",
       "      <th></th>\n",
       "      <th>incident_dt_hour</th>\n",
       "      <th>INCIDENT_RESPONSE_SECONDS_QY</th>\n",
       "      <th>INCIDENT_TRAVEL_TM_SECONDS_QY</th>\n",
       "      <th>ENGINES_ASSIGNED_QUANTITY</th>\n",
       "      <th>LADDERS_ASSIGNED_QUANTITY</th>\n",
       "      <th>OTHER_UNITS_ASSIGNED_QUANTITY</th>\n",
       "      <th>total_incident_time</th>\n",
       "    </tr>\n",
       "  </thead>\n",
       "  <tbody>\n",
       "    <tr>\n",
       "      <td>0</td>\n",
       "      <td>8</td>\n",
       "      <td>507</td>\n",
       "      <td>491.0</td>\n",
       "      <td>2</td>\n",
       "      <td>2</td>\n",
       "      <td>1</td>\n",
       "      <td>55.600000</td>\n",
       "    </tr>\n",
       "    <tr>\n",
       "      <td>1</td>\n",
       "      <td>8</td>\n",
       "      <td>279</td>\n",
       "      <td>227.0</td>\n",
       "      <td>3</td>\n",
       "      <td>2</td>\n",
       "      <td>1</td>\n",
       "      <td>21.033333</td>\n",
       "    </tr>\n",
       "    <tr>\n",
       "      <td>2</td>\n",
       "      <td>8</td>\n",
       "      <td>194</td>\n",
       "      <td>147.0</td>\n",
       "      <td>1</td>\n",
       "      <td>1</td>\n",
       "      <td>2</td>\n",
       "      <td>68.450000</td>\n",
       "    </tr>\n",
       "    <tr>\n",
       "      <td>3</td>\n",
       "      <td>8</td>\n",
       "      <td>266</td>\n",
       "      <td>257.0</td>\n",
       "      <td>3</td>\n",
       "      <td>2</td>\n",
       "      <td>1</td>\n",
       "      <td>14.283333</td>\n",
       "    </tr>\n",
       "    <tr>\n",
       "      <td>4</td>\n",
       "      <td>8</td>\n",
       "      <td>233</td>\n",
       "      <td>213.0</td>\n",
       "      <td>2</td>\n",
       "      <td>2</td>\n",
       "      <td>1</td>\n",
       "      <td>11.983333</td>\n",
       "    </tr>\n",
       "  </tbody>\n",
       "</table>\n",
       "</div>"
      ],
      "text/plain": [
       "   incident_dt_hour  INCIDENT_RESPONSE_SECONDS_QY  \\\n",
       "0                 8                           507   \n",
       "1                 8                           279   \n",
       "2                 8                           194   \n",
       "3                 8                           266   \n",
       "4                 8                           233   \n",
       "\n",
       "   INCIDENT_TRAVEL_TM_SECONDS_QY  ENGINES_ASSIGNED_QUANTITY  \\\n",
       "0                          491.0                          2   \n",
       "1                          227.0                          3   \n",
       "2                          147.0                          1   \n",
       "3                          257.0                          3   \n",
       "4                          213.0                          2   \n",
       "\n",
       "   LADDERS_ASSIGNED_QUANTITY  OTHER_UNITS_ASSIGNED_QUANTITY  \\\n",
       "0                          2                              1   \n",
       "1                          2                              1   \n",
       "2                          1                              2   \n",
       "3                          2                              1   \n",
       "4                          2                              1   \n",
       "\n",
       "   total_incident_time  \n",
       "0            55.600000  \n",
       "1            21.033333  \n",
       "2            68.450000  \n",
       "3            14.283333  \n",
       "4            11.983333  "
      ]
     },
     "execution_count": 157,
     "metadata": {},
     "output_type": "execute_result"
    }
   ],
   "source": [
    "x1=df[['incident_dt_hour','INCIDENT_RESPONSE_SECONDS_QY','INCIDENT_TRAVEL_TM_SECONDS_QY','ENGINES_ASSIGNED_QUANTITY','LADDERS_ASSIGNED_QUANTITY','OTHER_UNITS_ASSIGNED_QUANTITY','total_incident_time']]\n",
    "x1= x1.replace(0, np.nan)\n",
    "x1=x1.dropna()\n",
    "x1=x1.astype({'incident_dt_hour':int,'ENGINES_ASSIGNED_QUANTITY':int,'LADDERS_ASSIGNED_QUANTITY':int,'OTHER_UNITS_ASSIGNED_QUANTITY':int})\n",
    "x1.reset_index(inplace=True,drop=True)\n",
    "\n",
    "x1.head()\n",
    "\n"
   ]
  },
  {
   "cell_type": "code",
   "execution_count": 158,
   "metadata": {},
   "outputs": [
    {
     "data": {
      "image/png": "[encoded data removed]",
      "text/plain": [
       "<Figure size 576x576 with 2 Axes>"
      ]
     },
     "metadata": {},
     "output_type": "display_data"
    }
   ],
   "source": [
    "sns.set(font_scale=.9)\n",
    "plt.figure(figsize=(8,8))\n",
    "cor = x1.corr()\n",
    "ax = sns.heatmap(cor, annot=True, cmap=plt.cm.Reds)\n",
    "bottom, top = ax.get_ylim()\n",
    "ax.set_ylim(bottom + 0.5, top - 0.5)\n",
    "plt.show()"
   ]
  },
  {
   "cell_type": "markdown",
   "metadata": {},
   "source": [
    "# Linear Regression Model"
   ]
  },
  {
   "cell_type": "markdown",
   "metadata": {},
   "source": [
    "#### 1. Normalized data "
   ]
  },
  {
   "cell_type": "code",
   "execution_count": 159,
   "metadata": {},
   "outputs": [],
   "source": [
    "x1.iloc[:,0] = ((x1['incident_dt_hour'])-min(x1['incident_dt_hour']))/(max(x1['incident_dt_hour'])-(min(x1['incident_dt_hour']))) \n",
    "x1.iloc[:,1] = ((x1['INCIDENT_RESPONSE_SECONDS_QY'])-min(x1['INCIDENT_RESPONSE_SECONDS_QY']))/(max(x1['INCIDENT_RESPONSE_SECONDS_QY'])-(min(x1['INCIDENT_RESPONSE_SECONDS_QY']))) \n",
    "x1.iloc[:,2] = ((x1['INCIDENT_TRAVEL_TM_SECONDS_QY'])-min(x1['INCIDENT_TRAVEL_TM_SECONDS_QY']))/(max(x1['INCIDENT_TRAVEL_TM_SECONDS_QY'])-(min(x1['INCIDENT_TRAVEL_TM_SECONDS_QY']))) \n",
    "x1.iloc[:,3] = ((x1['ENGINES_ASSIGNED_QUANTITY'])-min(x1['ENGINES_ASSIGNED_QUANTITY']))/(max(x1['ENGINES_ASSIGNED_QUANTITY'])- min(x1['ENGINES_ASSIGNED_QUANTITY'])) \n",
    "x1.iloc[:,4] = ((x1['LADDERS_ASSIGNED_QUANTITY'])-min(x1['LADDERS_ASSIGNED_QUANTITY']))/(max(x1['LADDERS_ASSIGNED_QUANTITY'])- min(x1['LADDERS_ASSIGNED_QUANTITY'])) \n",
    "x1.iloc[:,5] = ((x1['OTHER_UNITS_ASSIGNED_QUANTITY'])- min(x1['OTHER_UNITS_ASSIGNED_QUANTITY']))/(max(x1['OTHER_UNITS_ASSIGNED_QUANTITY'])- min(x1['OTHER_UNITS_ASSIGNED_QUANTITY']))"
   ]
  },
  {
   "cell_type": "code",
   "execution_count": 160,
   "metadata": {},
   "outputs": [],
   "source": [
    "# converting total incident time into seconds\n",
    "# df_y is total iincident time in seconds\n",
    "df_y=x1[['total_incident_time']]*60"
   ]
  },
  {
   "cell_type": "code",
   "execution_count": 161,
   "metadata": {},
   "outputs": [
    {
     "data": {
      "text/html": [
       "<div>\n",
       "<style scoped>\n",
       "    .dataframe tbody tr th:only-of-type {\n",
       "        vertical-align: middle;\n",
       "    }\n",
       "\n",
       "    .dataframe tbody tr th {\n",
       "        vertical-align: top;\n",
       "    }\n",
       "\n",
       "    .dataframe thead th {\n",
       "        text-align: right;\n",
       "    }\n",
       "</style>\n",
       "<table border=\"1\" class=\"dataframe\">\n",
       "  <thead>\n",
       "    <tr style=\"text-align: right;\">\n",
       "      <th></th>\n",
       "      <th>total_incident_time</th>\n",
       "    </tr>\n",
       "  </thead>\n",
       "  <tbody>\n",
       "    <tr>\n",
       "      <td>0</td>\n",
       "      <td>3336.0</td>\n",
       "    </tr>\n",
       "    <tr>\n",
       "      <td>1</td>\n",
       "      <td>1262.0</td>\n",
       "    </tr>\n",
       "    <tr>\n",
       "      <td>2</td>\n",
       "      <td>4107.0</td>\n",
       "    </tr>\n",
       "    <tr>\n",
       "      <td>3</td>\n",
       "      <td>857.0</td>\n",
       "    </tr>\n",
       "    <tr>\n",
       "      <td>4</td>\n",
       "      <td>719.0</td>\n",
       "    </tr>\n",
       "  </tbody>\n",
       "</table>\n",
       "</div>"
      ],
      "text/plain": [
       "   total_incident_time\n",
       "0               3336.0\n",
       "1               1262.0\n",
       "2               4107.0\n",
       "3                857.0\n",
       "4                719.0"
      ]
     },
     "execution_count": 161,
     "metadata": {},
     "output_type": "execute_result"
    }
   ],
   "source": [
    "y=df_y[['total_incident_time']]\n",
    "y.head()"
   ]
  },
  {
   "cell_type": "markdown",
   "metadata": {},
   "source": [
    "#### 2. Splitting of data into test and train data"
   ]
  },
  {
   "cell_type": "code",
   "execution_count": 162,
   "metadata": {},
   "outputs": [],
   "source": [
    "train_data_x1=x1.drop(columns='total_incident_time',axis=1)\n",
    "train_data_x1 =train_data_x1[:100000]"
   ]
  },
  {
   "cell_type": "code",
   "execution_count": 163,
   "metadata": {},
   "outputs": [
    {
     "data": {
      "text/html": [
       "<div>\n",
       "<style scoped>\n",
       "    .dataframe tbody tr th:only-of-type {\n",
       "        vertical-align: middle;\n",
       "    }\n",
       "\n",
       "    .dataframe tbody tr th {\n",
       "        vertical-align: top;\n",
       "    }\n",
       "\n",
       "    .dataframe thead th {\n",
       "        text-align: right;\n",
       "    }\n",
       "</style>\n",
       "<table border=\"1\" class=\"dataframe\">\n",
       "  <thead>\n",
       "    <tr style=\"text-align: right;\">\n",
       "      <th></th>\n",
       "      <th>incident_dt_hour</th>\n",
       "      <th>INCIDENT_RESPONSE_SECONDS_QY</th>\n",
       "      <th>INCIDENT_TRAVEL_TM_SECONDS_QY</th>\n",
       "      <th>ENGINES_ASSIGNED_QUANTITY</th>\n",
       "      <th>LADDERS_ASSIGNED_QUANTITY</th>\n",
       "      <th>OTHER_UNITS_ASSIGNED_QUANTITY</th>\n",
       "    </tr>\n",
       "  </thead>\n",
       "  <tbody>\n",
       "    <tr>\n",
       "      <td>99995</td>\n",
       "      <td>0.818182</td>\n",
       "      <td>0.070241</td>\n",
       "      <td>0.075561</td>\n",
       "      <td>0.029412</td>\n",
       "      <td>0.013514</td>\n",
       "      <td>0.000000</td>\n",
       "    </tr>\n",
       "    <tr>\n",
       "      <td>99996</td>\n",
       "      <td>0.818182</td>\n",
       "      <td>0.048896</td>\n",
       "      <td>0.059121</td>\n",
       "      <td>0.000000</td>\n",
       "      <td>0.000000</td>\n",
       "      <td>0.013333</td>\n",
       "    </tr>\n",
       "    <tr>\n",
       "      <td>99997</td>\n",
       "      <td>0.818182</td>\n",
       "      <td>0.096798</td>\n",
       "      <td>0.110338</td>\n",
       "      <td>0.014706</td>\n",
       "      <td>0.000000</td>\n",
       "      <td>0.000000</td>\n",
       "    </tr>\n",
       "    <tr>\n",
       "      <td>99998</td>\n",
       "      <td>0.818182</td>\n",
       "      <td>0.202532</td>\n",
       "      <td>0.246285</td>\n",
       "      <td>0.029412</td>\n",
       "      <td>0.027027</td>\n",
       "      <td>0.000000</td>\n",
       "    </tr>\n",
       "    <tr>\n",
       "      <td>99999</td>\n",
       "      <td>0.818182</td>\n",
       "      <td>0.048399</td>\n",
       "      <td>0.060386</td>\n",
       "      <td>0.014706</td>\n",
       "      <td>0.013514</td>\n",
       "      <td>0.000000</td>\n",
       "    </tr>\n",
       "  </tbody>\n",
       "</table>\n",
       "</div>"
      ],
      "text/plain": [
       "       incident_dt_hour  INCIDENT_RESPONSE_SECONDS_QY  \\\n",
       "99995          0.818182                      0.070241   \n",
       "99996          0.818182                      0.048896   \n",
       "99997          0.818182                      0.096798   \n",
       "99998          0.818182                      0.202532   \n",
       "99999          0.818182                      0.048399   \n",
       "\n",
       "       INCIDENT_TRAVEL_TM_SECONDS_QY  ENGINES_ASSIGNED_QUANTITY  \\\n",
       "99995                       0.075561                   0.029412   \n",
       "99996                       0.059121                   0.000000   \n",
       "99997                       0.110338                   0.014706   \n",
       "99998                       0.246285                   0.029412   \n",
       "99999                       0.060386                   0.014706   \n",
       "\n",
       "       LADDERS_ASSIGNED_QUANTITY  OTHER_UNITS_ASSIGNED_QUANTITY  \n",
       "99995                   0.013514                       0.000000  \n",
       "99996                   0.000000                       0.013333  \n",
       "99997                   0.000000                       0.000000  \n",
       "99998                   0.027027                       0.000000  \n",
       "99999                   0.013514                       0.000000  "
      ]
     },
     "execution_count": 163,
     "metadata": {},
     "output_type": "execute_result"
    }
   ],
   "source": [
    "train_data_x1.tail()"
   ]
  },
  {
   "cell_type": "code",
   "execution_count": 165,
   "metadata": {},
   "outputs": [],
   "source": [
    "train_data_y = y[:100000]"
   ]
  },
  {
   "cell_type": "code",
   "execution_count": 166,
   "metadata": {},
   "outputs": [
    {
     "data": {
      "text/html": [
       "<div>\n",
       "<style scoped>\n",
       "    .dataframe tbody tr th:only-of-type {\n",
       "        vertical-align: middle;\n",
       "    }\n",
       "\n",
       "    .dataframe tbody tr th {\n",
       "        vertical-align: top;\n",
       "    }\n",
       "\n",
       "    .dataframe thead th {\n",
       "        text-align: right;\n",
       "    }\n",
       "</style>\n",
       "<table border=\"1\" class=\"dataframe\">\n",
       "  <thead>\n",
       "    <tr style=\"text-align: right;\">\n",
       "      <th></th>\n",
       "      <th>total_incident_time</th>\n",
       "    </tr>\n",
       "  </thead>\n",
       "  <tbody>\n",
       "    <tr>\n",
       "      <td>0</td>\n",
       "      <td>3336.0</td>\n",
       "    </tr>\n",
       "    <tr>\n",
       "      <td>1</td>\n",
       "      <td>1262.0</td>\n",
       "    </tr>\n",
       "    <tr>\n",
       "      <td>2</td>\n",
       "      <td>4107.0</td>\n",
       "    </tr>\n",
       "    <tr>\n",
       "      <td>3</td>\n",
       "      <td>857.0</td>\n",
       "    </tr>\n",
       "    <tr>\n",
       "      <td>4</td>\n",
       "      <td>719.0</td>\n",
       "    </tr>\n",
       "  </tbody>\n",
       "</table>\n",
       "</div>"
      ],
      "text/plain": [
       "   total_incident_time\n",
       "0               3336.0\n",
       "1               1262.0\n",
       "2               4107.0\n",
       "3                857.0\n",
       "4                719.0"
      ]
     },
     "execution_count": 166,
     "metadata": {},
     "output_type": "execute_result"
    }
   ],
   "source": [
    "train_data_y.head()"
   ]
  },
  {
   "cell_type": "code",
   "execution_count": 167,
   "metadata": {},
   "outputs": [],
   "source": [
    "test_data_x1=x1.drop(columns='total_incident_time',axis=1)\n",
    "test_data_x1=test_data_x1[100001:]"
   ]
  },
  {
   "cell_type": "code",
   "execution_count": 168,
   "metadata": {},
   "outputs": [
    {
     "data": {
      "text/plain": [
       "(39921, 6)"
      ]
     },
     "execution_count": 168,
     "metadata": {},
     "output_type": "execute_result"
    }
   ],
   "source": [
    "test_data_x1.head()\n",
    "test_data_x1.shape"
   ]
  },
  {
   "cell_type": "code",
   "execution_count": 169,
   "metadata": {
    "scrolled": true
   },
   "outputs": [
    {
     "data": {
      "text/html": [
       "<div>\n",
       "<style scoped>\n",
       "    .dataframe tbody tr th:only-of-type {\n",
       "        vertical-align: middle;\n",
       "    }\n",
       "\n",
       "    .dataframe tbody tr th {\n",
       "        vertical-align: top;\n",
       "    }\n",
       "\n",
       "    .dataframe thead th {\n",
       "        text-align: right;\n",
       "    }\n",
       "</style>\n",
       "<table border=\"1\" class=\"dataframe\">\n",
       "  <thead>\n",
       "    <tr style=\"text-align: right;\">\n",
       "      <th></th>\n",
       "      <th>total_incident_time</th>\n",
       "    </tr>\n",
       "  </thead>\n",
       "  <tbody>\n",
       "    <tr>\n",
       "      <td>100001</td>\n",
       "      <td>867.0</td>\n",
       "    </tr>\n",
       "    <tr>\n",
       "      <td>100002</td>\n",
       "      <td>1436.0</td>\n",
       "    </tr>\n",
       "    <tr>\n",
       "      <td>100003</td>\n",
       "      <td>1099.0</td>\n",
       "    </tr>\n",
       "    <tr>\n",
       "      <td>100004</td>\n",
       "      <td>1094.0</td>\n",
       "    </tr>\n",
       "    <tr>\n",
       "      <td>100005</td>\n",
       "      <td>733.0</td>\n",
       "    </tr>\n",
       "  </tbody>\n",
       "</table>\n",
       "</div>"
      ],
      "text/plain": [
       "        total_incident_time\n",
       "100001                867.0\n",
       "100002               1436.0\n",
       "100003               1099.0\n",
       "100004               1094.0\n",
       "100005                733.0"
      ]
     },
     "execution_count": 169,
     "metadata": {},
     "output_type": "execute_result"
    }
   ],
   "source": [
    "test_data_y = y[100001:]\n",
    "test_data_y.head()\n"
   ]
  },
  {
   "cell_type": "markdown",
   "metadata": {},
   "source": [
    "#### 3. Linear Regression using ladder assigned quntatity as single feature"
   ]
  },
  {
   "cell_type": "code",
   "execution_count": 170,
   "metadata": {},
   "outputs": [],
   "source": [
    "train_ladders = train_data_x1['LADDERS_ASSIGNED_QUANTITY']\n",
    "test_ladders = test_data_x1['LADDERS_ASSIGNED_QUANTITY']"
   ]
  },
  {
   "cell_type": "code",
   "execution_count": 171,
   "metadata": {},
   "outputs": [],
   "source": [
    "X = train_data_x1[['LADDERS_ASSIGNED_QUANTITY']]"
   ]
  },
  {
   "cell_type": "code",
   "execution_count": 172,
   "metadata": {},
   "outputs": [],
   "source": [
    "y = train_data_y"
   ]
  },
  {
   "cell_type": "code",
   "execution_count": 173,
   "metadata": {},
   "outputs": [
    {
     "data": {
      "text/html": [
       "<table class=\"simpletable\">\n",
       "<caption>OLS Regression Results</caption>\n",
       "<tr>\n",
       "  <th>Dep. Variable:</th>    <td>total_incident_time</td> <th>  R-squared (uncentered):</th>       <td>   0.526</td>  \n",
       "</tr>\n",
       "<tr>\n",
       "  <th>Model:</th>                    <td>OLS</td>         <th>  Adj. R-squared (uncentered):</th>  <td>   0.526</td>  \n",
       "</tr>\n",
       "<tr>\n",
       "  <th>Method:</th>              <td>Least Squares</td>    <th>  F-statistic:       </th>           <td>1.111e+05</td> \n",
       "</tr>\n",
       "<tr>\n",
       "  <th>Date:</th>              <td>Sun, 08 Dec 2019</td>   <th>  Prob (F-statistic):</th>            <td>  0.00</td>   \n",
       "</tr>\n",
       "<tr>\n",
       "  <th>Time:</th>                  <td>13:26:13</td>       <th>  Log-Likelihood:    </th>          <td>-8.9589e+05</td>\n",
       "</tr>\n",
       "<tr>\n",
       "  <th>No. Observations:</th>       <td>100000</td>        <th>  AIC:               </th>           <td>1.792e+06</td> \n",
       "</tr>\n",
       "<tr>\n",
       "  <th>Df Residuals:</th>           <td> 99999</td>        <th>  BIC:               </th>           <td>1.792e+06</td> \n",
       "</tr>\n",
       "<tr>\n",
       "  <th>Df Model:</th>               <td>     1</td>        <th>                     </th>               <td> </td>     \n",
       "</tr>\n",
       "<tr>\n",
       "  <th>Covariance Type:</th>       <td>nonrobust</td>      <th>                     </th>               <td> </td>     \n",
       "</tr>\n",
       "</table>\n",
       "<table class=\"simpletable\">\n",
       "<tr>\n",
       "              <td></td>                 <th>coef</th>     <th>std err</th>      <th>t</th>      <th>P>|t|</th>  <th>[0.025</th>    <th>0.975]</th>  \n",
       "</tr>\n",
       "<tr>\n",
       "  <th>LADDERS_ASSIGNED_QUANTITY</th> <td> 1.211e+05</td> <td>  363.292</td> <td>  333.271</td> <td> 0.000</td> <td>  1.2e+05</td> <td> 1.22e+05</td>\n",
       "</tr>\n",
       "</table>\n",
       "<table class=\"simpletable\">\n",
       "<tr>\n",
       "  <th>Omnibus:</th>       <td>202081.710</td> <th>  Durbin-Watson:     </th>    <td>   1.900</td>   \n",
       "</tr>\n",
       "<tr>\n",
       "  <th>Prob(Omnibus):</th>   <td> 0.000</td>   <th>  Jarque-Bera (JB):  </th> <td>2353757268.522</td>\n",
       "</tr>\n",
       "<tr>\n",
       "  <th>Skew:</th>            <td>16.178</td>   <th>  Prob(JB):          </th>    <td>    0.00</td>   \n",
       "</tr>\n",
       "<tr>\n",
       "  <th>Kurtosis:</th>        <td>753.903</td>  <th>  Cond. No.          </th>    <td>    1.00</td>   \n",
       "</tr>\n",
       "</table><br/><br/>Warnings:<br/>[1] Standard Errors assume that the covariance matrix of the errors is correctly specified."
      ],
      "text/plain": [
       "<class 'statsmodels.iolib.summary.Summary'>\n",
       "\"\"\"\n",
       "                                 OLS Regression Results                                 \n",
       "========================================================================================\n",
       "Dep. Variable:     total_incident_time   R-squared (uncentered):                   0.526\n",
       "Model:                             OLS   Adj. R-squared (uncentered):              0.526\n",
       "Method:                  Least Squares   F-statistic:                          1.111e+05\n",
       "Date:                 Sun, 08 Dec 2019   Prob (F-statistic):                        0.00\n",
       "Time:                         13:26:13   Log-Likelihood:                     -8.9589e+05\n",
       "No. Observations:               100000   AIC:                                  1.792e+06\n",
       "Df Residuals:                    99999   BIC:                                  1.792e+06\n",
       "Df Model:                            1                                                  \n",
       "Covariance Type:             nonrobust                                                  \n",
       "=============================================================================================\n",
       "                                coef    std err          t      P>|t|      [0.025      0.975]\n",
       "---------------------------------------------------------------------------------------------\n",
       "LADDERS_ASSIGNED_QUANTITY  1.211e+05    363.292    333.271      0.000     1.2e+05    1.22e+05\n",
       "==============================================================================\n",
       "Omnibus:                   202081.710   Durbin-Watson:                   1.900\n",
       "Prob(Omnibus):                  0.000   Jarque-Bera (JB):       2353757268.522\n",
       "Skew:                          16.178   Prob(JB):                         0.00\n",
       "Kurtosis:                     753.903   Cond. No.                         1.00\n",
       "==============================================================================\n",
       "\n",
       "Warnings:\n",
       "[1] Standard Errors assume that the covariance matrix of the errors is correctly specified.\n",
       "\"\"\""
      ]
     },
     "execution_count": 173,
     "metadata": {},
     "output_type": "execute_result"
    }
   ],
   "source": [
    "# Note the difference in argument order\n",
    "model = sm.OLS(y, X).fit()\n",
    "predictions = model.predict(test_data_x1[['LADDERS_ASSIGNED_QUANTITY']]) # make the predictions by the model\n",
    "\n",
    "# Print out the statistics\n",
    "model.summary()"
   ]
  },
  {
   "cell_type": "code",
   "execution_count": 174,
   "metadata": {},
   "outputs": [
    {
     "data": {
      "text/plain": [
       "LinearRegression(copy_X=True, fit_intercept=True, n_jobs=None, normalize=False)"
      ]
     },
     "execution_count": 174,
     "metadata": {},
     "output_type": "execute_result"
    }
   ],
   "source": [
    "regressor = LinearRegression()\n",
    "regressor.fit(train_ladders.to_frame(), train_data_y)"
   ]
  },
  {
   "cell_type": "code",
   "execution_count": 175,
   "metadata": {},
   "outputs": [
    {
     "data": {
      "image/png": "[encoded data removed]",
      "text/plain": [
       "<Figure size 432x288 with 1 Axes>"
      ]
     },
     "metadata": {},
     "output_type": "display_data"
    },
    {
     "data": {
      "image/png": "[encoded data removed]",
      "text/plain": [
       "<Figure size 432x288 with 1 Axes>"
      ]
     },
     "metadata": {},
     "output_type": "display_data"
    }
   ],
   "source": [
    "# Visualizing the Train set results\n",
    "\n",
    "viz_train = plt\n",
    "viz_train.scatter(train_ladders.to_frame(), train_data_y, color='red')\n",
    "viz_train.plot(train_ladders.to_frame(), regressor.predict(train_ladders.to_frame()), color='blue')\n",
    "viz_train.title('Number of ladders VS Total Incident Time (Training set)')\n",
    "viz_train.xlabel('Number of Ladders')\n",
    "viz_train.ylabel('Total Incident time')\n",
    "viz_train.show()\n",
    "\n",
    "\n",
    "\n",
    "# Visualizing the Test set results\n",
    "\n",
    "viz_test = plt\n",
    "viz_test.scatter(test_ladders.to_frame(),test_data_y, color='red')\n",
    "viz_test.plot(train_ladders.to_frame(), regressor.predict(train_ladders.to_frame()), color='blue')\n",
    "viz_test.title('Number of ladders VS Total Incident Time (Test set)')\n",
    "viz_test.xlabel('Number of Ladders')\n",
    "viz_test.ylabel('Total Incident time')\n",
    "viz_test.show()"
   ]
  },
  {
   "cell_type": "markdown",
   "metadata": {},
   "source": [
    "#### 3. Linear Regression using engine assigned quntatity as single feature"
   ]
  },
  {
   "cell_type": "code",
   "execution_count": 176,
   "metadata": {},
   "outputs": [],
   "source": [
    "train_engines = train_data_x1['ENGINES_ASSIGNED_QUANTITY']\n",
    "test_engines = test_data_x1['ENGINES_ASSIGNED_QUANTITY']"
   ]
  },
  {
   "cell_type": "code",
   "execution_count": 177,
   "metadata": {},
   "outputs": [],
   "source": [
    "X = train_data_x1[['ENGINES_ASSIGNED_QUANTITY']]"
   ]
  },
  {
   "cell_type": "code",
   "execution_count": 178,
   "metadata": {},
   "outputs": [
    {
     "data": {
      "text/html": [
       "<table class=\"simpletable\">\n",
       "<caption>OLS Regression Results</caption>\n",
       "<tr>\n",
       "  <th>Dep. Variable:</th>    <td>total_incident_time</td> <th>  R-squared (uncentered):</th>       <td>   0.489</td>  \n",
       "</tr>\n",
       "<tr>\n",
       "  <th>Model:</th>                    <td>OLS</td>         <th>  Adj. R-squared (uncentered):</th>  <td>   0.488</td>  \n",
       "</tr>\n",
       "<tr>\n",
       "  <th>Method:</th>              <td>Least Squares</td>    <th>  F-statistic:       </th>           <td>9.550e+04</td> \n",
       "</tr>\n",
       "<tr>\n",
       "  <th>Date:</th>              <td>Sun, 08 Dec 2019</td>   <th>  Prob (F-statistic):</th>            <td>  0.00</td>   \n",
       "</tr>\n",
       "<tr>\n",
       "  <th>Time:</th>                  <td>13:27:39</td>       <th>  Log-Likelihood:    </th>          <td>-8.9972e+05</td>\n",
       "</tr>\n",
       "<tr>\n",
       "  <th>No. Observations:</th>       <td>100000</td>        <th>  AIC:               </th>           <td>1.799e+06</td> \n",
       "</tr>\n",
       "<tr>\n",
       "  <th>Df Residuals:</th>           <td> 99999</td>        <th>  BIC:               </th>           <td>1.799e+06</td> \n",
       "</tr>\n",
       "<tr>\n",
       "  <th>Df Model:</th>               <td>     1</td>        <th>                     </th>               <td> </td>     \n",
       "</tr>\n",
       "<tr>\n",
       "  <th>Covariance Type:</th>       <td>nonrobust</td>      <th>                     </th>               <td> </td>     \n",
       "</tr>\n",
       "</table>\n",
       "<table class=\"simpletable\">\n",
       "<tr>\n",
       "              <td></td>                 <th>coef</th>     <th>std err</th>      <th>t</th>      <th>P>|t|</th>  <th>[0.025</th>    <th>0.975]</th>  \n",
       "</tr>\n",
       "<tr>\n",
       "  <th>ENGINES_ASSIGNED_QUANTITY</th> <td> 6.663e+04</td> <td>  215.605</td> <td>  309.038</td> <td> 0.000</td> <td> 6.62e+04</td> <td> 6.71e+04</td>\n",
       "</tr>\n",
       "</table>\n",
       "<table class=\"simpletable\">\n",
       "<tr>\n",
       "  <th>Omnibus:</th>       <td>205413.071</td> <th>  Durbin-Watson:     </th>    <td>   1.891</td>   \n",
       "</tr>\n",
       "<tr>\n",
       "  <th>Prob(Omnibus):</th>   <td> 0.000</td>   <th>  Jarque-Bera (JB):  </th> <td>2382435749.402</td>\n",
       "</tr>\n",
       "<tr>\n",
       "  <th>Skew:</th>            <td>16.842</td>   <th>  Prob(JB):          </th>    <td>    0.00</td>   \n",
       "</tr>\n",
       "<tr>\n",
       "  <th>Kurtosis:</th>        <td>758.414</td>  <th>  Cond. No.          </th>    <td>    1.00</td>   \n",
       "</tr>\n",
       "</table><br/><br/>Warnings:<br/>[1] Standard Errors assume that the covariance matrix of the errors is correctly specified."
      ],
      "text/plain": [
       "<class 'statsmodels.iolib.summary.Summary'>\n",
       "\"\"\"\n",
       "                                 OLS Regression Results                                 \n",
       "========================================================================================\n",
       "Dep. Variable:     total_incident_time   R-squared (uncentered):                   0.489\n",
       "Model:                             OLS   Adj. R-squared (uncentered):              0.488\n",
       "Method:                  Least Squares   F-statistic:                          9.550e+04\n",
       "Date:                 Sun, 08 Dec 2019   Prob (F-statistic):                        0.00\n",
       "Time:                         13:27:39   Log-Likelihood:                     -8.9972e+05\n",
       "No. Observations:               100000   AIC:                                  1.799e+06\n",
       "Df Residuals:                    99999   BIC:                                  1.799e+06\n",
       "Df Model:                            1                                                  \n",
       "Covariance Type:             nonrobust                                                  \n",
       "=============================================================================================\n",
       "                                coef    std err          t      P>|t|      [0.025      0.975]\n",
       "---------------------------------------------------------------------------------------------\n",
       "ENGINES_ASSIGNED_QUANTITY  6.663e+04    215.605    309.038      0.000    6.62e+04    6.71e+04\n",
       "==============================================================================\n",
       "Omnibus:                   205413.071   Durbin-Watson:                   1.891\n",
       "Prob(Omnibus):                  0.000   Jarque-Bera (JB):       2382435749.402\n",
       "Skew:                          16.842   Prob(JB):                         0.00\n",
       "Kurtosis:                     758.414   Cond. No.                         1.00\n",
       "==============================================================================\n",
       "\n",
       "Warnings:\n",
       "[1] Standard Errors assume that the covariance matrix of the errors is correctly specified.\n",
       "\"\"\""
      ]
     },
     "execution_count": 178,
     "metadata": {},
     "output_type": "execute_result"
    }
   ],
   "source": [
    "# Note the difference in argument order\n",
    "model = sm.OLS(y, X).fit()\n",
    "predictions = model.predict(test_data_x1[['ENGINES_ASSIGNED_QUANTITY']]) # make the predictions by the model\n",
    "\n",
    "# Print out the statistics\n",
    "model.summary()"
   ]
  },
  {
   "cell_type": "code",
   "execution_count": 179,
   "metadata": {},
   "outputs": [
    {
     "data": {
      "text/plain": [
       "LinearRegression(copy_X=True, fit_intercept=True, n_jobs=None, normalize=False)"
      ]
     },
     "execution_count": 179,
     "metadata": {},
     "output_type": "execute_result"
    }
   ],
   "source": [
    "regressor = LinearRegression()\n",
    "regressor.fit(train_engines.to_frame(), train_data_y)"
   ]
  },
  {
   "cell_type": "code",
   "execution_count": 180,
   "metadata": {},
   "outputs": [
    {
     "data": {
      "image/png": "[encoded data removed]",
      "text/plain": [
       "<Figure size 432x288 with 1 Axes>"
      ]
     },
     "metadata": {},
     "output_type": "display_data"
    },
    {
     "data": {
      "image/png": "[encoded data removed]",
      "text/plain": [
       "<Figure size 432x288 with 1 Axes>"
      ]
     },
     "metadata": {},
     "output_type": "display_data"
    }
   ],
   "source": [
    "# Visualizing the Train set results\n",
    "\n",
    "viz_train = plt\n",
    "viz_train.scatter(train_engines.to_frame(), train_data_y, color='orange')\n",
    "viz_train.plot(train_engines.to_frame(), regressor.predict(train_engines.to_frame()), color='green')\n",
    "viz_train.title('Number of Engines VS Total Incident Time (Training set)')\n",
    "viz_train.xlabel('Number of Engines')\n",
    "viz_train.ylabel('Total Incident time')\n",
    "viz_train.show()\n",
    "\n",
    "\n",
    "\n",
    "# Visualizing the Test set results\n",
    "\n",
    "viz_test = plt\n",
    "viz_test.scatter(test_engines.to_frame(),test_data_y, color='orange')\n",
    "viz_test.plot(train_engines.to_frame(), regressor.predict(train_engines.to_frame()), color='green')\n",
    "viz_test.title('Number of Engines VS Total Incident Time (Test set)')\n",
    "viz_test.xlabel('Number of Engines')\n",
    "viz_test.ylabel('Total Incident time')\n",
    "viz_test.show()"
   ]
  },
  {
   "cell_type": "markdown",
   "metadata": {},
   "source": [
    "#### 3. Linear Regression using other unit assigned quntatity as single feature"
   ]
  },
  {
   "cell_type": "code",
   "execution_count": 181,
   "metadata": {},
   "outputs": [],
   "source": [
    "train_other = train_data_x1['OTHER_UNITS_ASSIGNED_QUANTITY']\n",
    "test_other = test_data_x1['OTHER_UNITS_ASSIGNED_QUANTITY']"
   ]
  },
  {
   "cell_type": "code",
   "execution_count": 182,
   "metadata": {},
   "outputs": [],
   "source": [
    "X = train_data_x1[['OTHER_UNITS_ASSIGNED_QUANTITY']]"
   ]
  },
  {
   "cell_type": "code",
   "execution_count": 183,
   "metadata": {},
   "outputs": [
    {
     "data": {
      "text/html": [
       "<table class=\"simpletable\">\n",
       "<caption>OLS Regression Results</caption>\n",
       "<tr>\n",
       "  <th>Dep. Variable:</th>    <td>total_incident_time</td> <th>  R-squared (uncentered):</th>       <td>   0.390</td>  \n",
       "</tr>\n",
       "<tr>\n",
       "  <th>Model:</th>                    <td>OLS</td>         <th>  Adj. R-squared (uncentered):</th>  <td>   0.390</td>  \n",
       "</tr>\n",
       "<tr>\n",
       "  <th>Method:</th>              <td>Least Squares</td>    <th>  F-statistic:       </th>           <td>6.394e+04</td> \n",
       "</tr>\n",
       "<tr>\n",
       "  <th>Date:</th>              <td>Sun, 08 Dec 2019</td>   <th>  Prob (F-statistic):</th>            <td>  0.00</td>   \n",
       "</tr>\n",
       "<tr>\n",
       "  <th>Time:</th>                  <td>13:28:13</td>       <th>  Log-Likelihood:    </th>          <td>-9.0852e+05</td>\n",
       "</tr>\n",
       "<tr>\n",
       "  <th>No. Observations:</th>       <td>100000</td>        <th>  AIC:               </th>           <td>1.817e+06</td> \n",
       "</tr>\n",
       "<tr>\n",
       "  <th>Df Residuals:</th>           <td> 99999</td>        <th>  BIC:               </th>           <td>1.817e+06</td> \n",
       "</tr>\n",
       "<tr>\n",
       "  <th>Df Model:</th>               <td>     1</td>        <th>                     </th>               <td> </td>     \n",
       "</tr>\n",
       "<tr>\n",
       "  <th>Covariance Type:</th>       <td>nonrobust</td>      <th>                     </th>               <td> </td>     \n",
       "</tr>\n",
       "</table>\n",
       "<table class=\"simpletable\">\n",
       "<tr>\n",
       "                <td></td>                   <th>coef</th>     <th>std err</th>      <th>t</th>      <th>P>|t|</th>  <th>[0.025</th>    <th>0.975]</th>  \n",
       "</tr>\n",
       "<tr>\n",
       "  <th>OTHER_UNITS_ASSIGNED_QUANTITY</th> <td> 8.975e+04</td> <td>  354.942</td> <td>  252.863</td> <td> 0.000</td> <td> 8.91e+04</td> <td> 9.04e+04</td>\n",
       "</tr>\n",
       "</table>\n",
       "<table class=\"simpletable\">\n",
       "<tr>\n",
       "  <th>Omnibus:</th>       <td>195439.689</td> <th>  Durbin-Watson:     </th>    <td>   1.348</td>   \n",
       "</tr>\n",
       "<tr>\n",
       "  <th>Prob(Omnibus):</th>   <td> 0.000</td>   <th>  Jarque-Bera (JB):  </th> <td>2507565169.348</td>\n",
       "</tr>\n",
       "<tr>\n",
       "  <th>Skew:</th>            <td>14.874</td>   <th>  Prob(JB):          </th>    <td>    0.00</td>   \n",
       "</tr>\n",
       "<tr>\n",
       "  <th>Kurtosis:</th>        <td>778.197</td>  <th>  Cond. No.          </th>    <td>    1.00</td>   \n",
       "</tr>\n",
       "</table><br/><br/>Warnings:<br/>[1] Standard Errors assume that the covariance matrix of the errors is correctly specified."
      ],
      "text/plain": [
       "<class 'statsmodels.iolib.summary.Summary'>\n",
       "\"\"\"\n",
       "                                 OLS Regression Results                                 \n",
       "========================================================================================\n",
       "Dep. Variable:     total_incident_time   R-squared (uncentered):                   0.390\n",
       "Model:                             OLS   Adj. R-squared (uncentered):              0.390\n",
       "Method:                  Least Squares   F-statistic:                          6.394e+04\n",
       "Date:                 Sun, 08 Dec 2019   Prob (F-statistic):                        0.00\n",
       "Time:                         13:28:13   Log-Likelihood:                     -9.0852e+05\n",
       "No. Observations:               100000   AIC:                                  1.817e+06\n",
       "Df Residuals:                    99999   BIC:                                  1.817e+06\n",
       "Df Model:                            1                                                  \n",
       "Covariance Type:             nonrobust                                                  \n",
       "=================================================================================================\n",
       "                                    coef    std err          t      P>|t|      [0.025      0.975]\n",
       "-------------------------------------------------------------------------------------------------\n",
       "OTHER_UNITS_ASSIGNED_QUANTITY  8.975e+04    354.942    252.863      0.000    8.91e+04    9.04e+04\n",
       "==============================================================================\n",
       "Omnibus:                   195439.689   Durbin-Watson:                   1.348\n",
       "Prob(Omnibus):                  0.000   Jarque-Bera (JB):       2507565169.348\n",
       "Skew:                          14.874   Prob(JB):                         0.00\n",
       "Kurtosis:                     778.197   Cond. No.                         1.00\n",
       "==============================================================================\n",
       "\n",
       "Warnings:\n",
       "[1] Standard Errors assume that the covariance matrix of the errors is correctly specified.\n",
       "\"\"\""
      ]
     },
     "execution_count": 183,
     "metadata": {},
     "output_type": "execute_result"
    }
   ],
   "source": [
    "# Note the difference in argument order\n",
    "model = sm.OLS(y, X).fit()\n",
    "predictions = model.predict(test_data_x1[['OTHER_UNITS_ASSIGNED_QUANTITY']]) # make the predictions by the model\n",
    "\n",
    "# Print out the statistics\n",
    "model.summary()"
   ]
  },
  {
   "cell_type": "code",
   "execution_count": 184,
   "metadata": {},
   "outputs": [
    {
     "data": {
      "text/plain": [
       "LinearRegression(copy_X=True, fit_intercept=True, n_jobs=None, normalize=False)"
      ]
     },
     "execution_count": 184,
     "metadata": {},
     "output_type": "execute_result"
    }
   ],
   "source": [
    "regressor = LinearRegression()\n",
    "regressor.fit(train_other.to_frame(), train_data_y)"
   ]
  },
  {
   "cell_type": "code",
   "execution_count": 185,
   "metadata": {},
   "outputs": [
    {
     "data": {
      "image/png": "[encoded data removed]",
      "text/plain": [
       "<Figure size 432x288 with 1 Axes>"
      ]
     },
     "metadata": {},
     "output_type": "display_data"
    },
    {
     "data": {
      "image/png": "[encoded data removed]",
      "text/plain": [
       "<Figure size 432x288 with 1 Axes>"
      ]
     },
     "metadata": {},
     "output_type": "display_data"
    }
   ],
   "source": [
    "# Visualizing the Train set results\n",
    "\n",
    "viz_train = plt\n",
    "viz_train.scatter(train_other.to_frame(), train_data_y, color='yellow')\n",
    "viz_train.plot(train_other.to_frame(), regressor.predict(train_other.to_frame()), color='brown')\n",
    "viz_train.title('Other Unit Assigned VS Total Incident Time (Training set)')\n",
    "viz_train.xlabel('Other Unit Assigned')\n",
    "viz_train.ylabel('Total Incident time')\n",
    "viz_train.show()\n",
    "\n",
    "\n",
    "\n",
    "# Visualizing the Test set results\n",
    "\n",
    "viz_test = plt\n",
    "viz_test.scatter(test_other.to_frame(),test_data_y, color='yellow')\n",
    "viz_test.plot(train_other.to_frame(), regressor.predict(train_other.to_frame()), color='brown')\n",
    "viz_test.title('Other Unit Assigned VS Total Incident Time (Test set)')\n",
    "viz_test.xlabel('Other Unit Assigned')\n",
    "viz_test.ylabel('Total Incident time')\n",
    "viz_test.show()\n"
   ]
  },
  {
   "cell_type": "markdown",
   "metadata": {},
   "source": [
    "#### 3. Linear Regression using incident_dt_hour  as single feature"
   ]
  },
  {
   "cell_type": "code",
   "execution_count": 186,
   "metadata": {},
   "outputs": [],
   "source": [
    "X = train_data_x1[['incident_dt_hour']]"
   ]
  },
  {
   "cell_type": "code",
   "execution_count": 187,
   "metadata": {},
   "outputs": [
    {
     "data": {
      "text/html": [
       "<table class=\"simpletable\">\n",
       "<caption>OLS Regression Results</caption>\n",
       "<tr>\n",
       "  <th>Dep. Variable:</th>    <td>total_incident_time</td> <th>  R-squared (uncentered):</th>       <td>   0.248</td>  \n",
       "</tr>\n",
       "<tr>\n",
       "  <th>Model:</th>                    <td>OLS</td>         <th>  Adj. R-squared (uncentered):</th>  <td>   0.248</td>  \n",
       "</tr>\n",
       "<tr>\n",
       "  <th>Method:</th>              <td>Least Squares</td>    <th>  F-statistic:       </th>           <td>3.301e+04</td> \n",
       "</tr>\n",
       "<tr>\n",
       "  <th>Date:</th>              <td>Sun, 08 Dec 2019</td>   <th>  Prob (F-statistic):</th>            <td>  0.00</td>   \n",
       "</tr>\n",
       "<tr>\n",
       "  <th>Time:</th>                  <td>13:29:03</td>       <th>  Log-Likelihood:    </th>          <td>-9.1898e+05</td>\n",
       "</tr>\n",
       "<tr>\n",
       "  <th>No. Observations:</th>       <td>100000</td>        <th>  AIC:               </th>           <td>1.838e+06</td> \n",
       "</tr>\n",
       "<tr>\n",
       "  <th>Df Residuals:</th>           <td> 99999</td>        <th>  BIC:               </th>           <td>1.838e+06</td> \n",
       "</tr>\n",
       "<tr>\n",
       "  <th>Df Model:</th>               <td>     1</td>        <th>                     </th>               <td> </td>     \n",
       "</tr>\n",
       "<tr>\n",
       "  <th>Covariance Type:</th>       <td>nonrobust</td>      <th>                     </th>               <td> </td>     \n",
       "</tr>\n",
       "</table>\n",
       "<table class=\"simpletable\">\n",
       "<tr>\n",
       "          <td></td>            <th>coef</th>     <th>std err</th>      <th>t</th>      <th>P>|t|</th>  <th>[0.025</th>    <th>0.975]</th>  \n",
       "</tr>\n",
       "<tr>\n",
       "  <th>incident_dt_hour</th> <td> 2141.5813</td> <td>   11.788</td> <td>  181.676</td> <td> 0.000</td> <td> 2118.477</td> <td> 2164.685</td>\n",
       "</tr>\n",
       "</table>\n",
       "<table class=\"simpletable\">\n",
       "<tr>\n",
       "  <th>Omnibus:</th>       <td>230904.531</td> <th>  Durbin-Watson:     </th>    <td>   1.638</td>   \n",
       "</tr>\n",
       "<tr>\n",
       "  <th>Prob(Omnibus):</th>   <td> 0.000</td>   <th>  Jarque-Bera (JB):  </th> <td>3574464161.285</td>\n",
       "</tr>\n",
       "<tr>\n",
       "  <th>Skew:</th>            <td>22.424</td>   <th>  Prob(JB):          </th>    <td>    0.00</td>   \n",
       "</tr>\n",
       "<tr>\n",
       "  <th>Kurtosis:</th>        <td>928.127</td>  <th>  Cond. No.          </th>    <td>    1.00</td>   \n",
       "</tr>\n",
       "</table><br/><br/>Warnings:<br/>[1] Standard Errors assume that the covariance matrix of the errors is correctly specified."
      ],
      "text/plain": [
       "<class 'statsmodels.iolib.summary.Summary'>\n",
       "\"\"\"\n",
       "                                 OLS Regression Results                                 \n",
       "========================================================================================\n",
       "Dep. Variable:     total_incident_time   R-squared (uncentered):                   0.248\n",
       "Model:                             OLS   Adj. R-squared (uncentered):              0.248\n",
       "Method:                  Least Squares   F-statistic:                          3.301e+04\n",
       "Date:                 Sun, 08 Dec 2019   Prob (F-statistic):                        0.00\n",
       "Time:                         13:29:03   Log-Likelihood:                     -9.1898e+05\n",
       "No. Observations:               100000   AIC:                                  1.838e+06\n",
       "Df Residuals:                    99999   BIC:                                  1.838e+06\n",
       "Df Model:                            1                                                  \n",
       "Covariance Type:             nonrobust                                                  \n",
       "====================================================================================\n",
       "                       coef    std err          t      P>|t|      [0.025      0.975]\n",
       "------------------------------------------------------------------------------------\n",
       "incident_dt_hour  2141.5813     11.788    181.676      0.000    2118.477    2164.685\n",
       "==============================================================================\n",
       "Omnibus:                   230904.531   Durbin-Watson:                   1.638\n",
       "Prob(Omnibus):                  0.000   Jarque-Bera (JB):       3574464161.285\n",
       "Skew:                          22.424   Prob(JB):                         0.00\n",
       "Kurtosis:                     928.127   Cond. No.                         1.00\n",
       "==============================================================================\n",
       "\n",
       "Warnings:\n",
       "[1] Standard Errors assume that the covariance matrix of the errors is correctly specified.\n",
       "\"\"\""
      ]
     },
     "execution_count": 187,
     "metadata": {},
     "output_type": "execute_result"
    }
   ],
   "source": [
    "# Note the difference in argument order\n",
    "model = sm.OLS(y, X).fit()\n",
    "predictions = model.predict(test_data_x1[['incident_dt_hour']]) # make the predictions by the model\n",
    "\n",
    "# Print out the statistics\n",
    "model.summary()"
   ]
  },
  {
   "cell_type": "markdown",
   "metadata": {},
   "source": [
    "#### 4. Linear Regression using INCIDENT_RESPONSE_SECONDS_QY  as single feature"
   ]
  },
  {
   "cell_type": "code",
   "execution_count": 189,
   "metadata": {},
   "outputs": [],
   "source": [
    "X = train_data_x1[['INCIDENT_RESPONSE_SECONDS_QY']]"
   ]
  },
  {
   "cell_type": "code",
   "execution_count": 190,
   "metadata": {},
   "outputs": [
    {
     "data": {
      "text/html": [
       "<table class=\"simpletable\">\n",
       "<caption>OLS Regression Results</caption>\n",
       "<tr>\n",
       "  <th>Dep. Variable:</th>    <td>total_incident_time</td> <th>  R-squared (uncentered):</th>       <td>   0.288</td>  \n",
       "</tr>\n",
       "<tr>\n",
       "  <th>Model:</th>                    <td>OLS</td>         <th>  Adj. R-squared (uncentered):</th>  <td>   0.288</td>  \n",
       "</tr>\n",
       "<tr>\n",
       "  <th>Method:</th>              <td>Least Squares</td>    <th>  F-statistic:       </th>           <td>4.053e+04</td> \n",
       "</tr>\n",
       "<tr>\n",
       "  <th>Date:</th>              <td>Sun, 08 Dec 2019</td>   <th>  Prob (F-statistic):</th>            <td>  0.00</td>   \n",
       "</tr>\n",
       "<tr>\n",
       "  <th>Time:</th>                  <td>13:30:00</td>       <th>  Log-Likelihood:    </th>          <td>-9.1623e+05</td>\n",
       "</tr>\n",
       "<tr>\n",
       "  <th>No. Observations:</th>       <td>100000</td>        <th>  AIC:               </th>           <td>1.832e+06</td> \n",
       "</tr>\n",
       "<tr>\n",
       "  <th>Df Residuals:</th>           <td> 99999</td>        <th>  BIC:               </th>           <td>1.832e+06</td> \n",
       "</tr>\n",
       "<tr>\n",
       "  <th>Df Model:</th>               <td>     1</td>        <th>                     </th>               <td> </td>     \n",
       "</tr>\n",
       "<tr>\n",
       "  <th>Covariance Type:</th>       <td>nonrobust</td>      <th>                     </th>               <td> </td>     \n",
       "</tr>\n",
       "</table>\n",
       "<table class=\"simpletable\">\n",
       "<tr>\n",
       "                <td></td>                  <th>coef</th>     <th>std err</th>      <th>t</th>      <th>P>|t|</th>  <th>[0.025</th>    <th>0.975]</th>  \n",
       "</tr>\n",
       "<tr>\n",
       "  <th>INCIDENT_RESPONSE_SECONDS_QY</th> <td> 1.947e+04</td> <td>   96.720</td> <td>  201.317</td> <td> 0.000</td> <td> 1.93e+04</td> <td> 1.97e+04</td>\n",
       "</tr>\n",
       "</table>\n",
       "<table class=\"simpletable\">\n",
       "<tr>\n",
       "  <th>Omnibus:</th>       <td>237241.536</td> <th>  Durbin-Watson:     </th>    <td>   1.782</td>   \n",
       "</tr>\n",
       "<tr>\n",
       "  <th>Prob(Omnibus):</th>   <td> 0.000</td>   <th>  Jarque-Bera (JB):  </th> <td>4263677500.889</td>\n",
       "</tr>\n",
       "<tr>\n",
       "  <th>Skew:</th>            <td>23.961</td>   <th>  Prob(JB):          </th>    <td>    0.00</td>   \n",
       "</tr>\n",
       "<tr>\n",
       "  <th>Kurtosis:</th>       <td>1013.439</td>  <th>  Cond. No.          </th>    <td>    1.00</td>   \n",
       "</tr>\n",
       "</table><br/><br/>Warnings:<br/>[1] Standard Errors assume that the covariance matrix of the errors is correctly specified."
      ],
      "text/plain": [
       "<class 'statsmodels.iolib.summary.Summary'>\n",
       "\"\"\"\n",
       "                                 OLS Regression Results                                 \n",
       "========================================================================================\n",
       "Dep. Variable:     total_incident_time   R-squared (uncentered):                   0.288\n",
       "Model:                             OLS   Adj. R-squared (uncentered):              0.288\n",
       "Method:                  Least Squares   F-statistic:                          4.053e+04\n",
       "Date:                 Sun, 08 Dec 2019   Prob (F-statistic):                        0.00\n",
       "Time:                         13:30:00   Log-Likelihood:                     -9.1623e+05\n",
       "No. Observations:               100000   AIC:                                  1.832e+06\n",
       "Df Residuals:                    99999   BIC:                                  1.832e+06\n",
       "Df Model:                            1                                                  \n",
       "Covariance Type:             nonrobust                                                  \n",
       "================================================================================================\n",
       "                                   coef    std err          t      P>|t|      [0.025      0.975]\n",
       "------------------------------------------------------------------------------------------------\n",
       "INCIDENT_RESPONSE_SECONDS_QY  1.947e+04     96.720    201.317      0.000    1.93e+04    1.97e+04\n",
       "==============================================================================\n",
       "Omnibus:                   237241.536   Durbin-Watson:                   1.782\n",
       "Prob(Omnibus):                  0.000   Jarque-Bera (JB):       4263677500.889\n",
       "Skew:                          23.961   Prob(JB):                         0.00\n",
       "Kurtosis:                    1013.439   Cond. No.                         1.00\n",
       "==============================================================================\n",
       "\n",
       "Warnings:\n",
       "[1] Standard Errors assume that the covariance matrix of the errors is correctly specified.\n",
       "\"\"\""
      ]
     },
     "execution_count": 190,
     "metadata": {},
     "output_type": "execute_result"
    }
   ],
   "source": [
    "# Note the difference in argument order\n",
    "model = sm.OLS(y, X).fit()\n",
    "predictions = model.predict(test_data_x1[['INCIDENT_RESPONSE_SECONDS_QY']]) # make the predictions by the model\n",
    "\n",
    "# Print out the statistics\n",
    "model.summary()"
   ]
  },
  {
   "cell_type": "markdown",
   "metadata": {},
   "source": [
    "#### 5. Linear Regression using INCIDENT_TRAVEL_TM_SECONDS_QY  as single feature"
   ]
  },
  {
   "cell_type": "code",
   "execution_count": 191,
   "metadata": {},
   "outputs": [],
   "source": [
    "X = train_data_x1[['INCIDENT_TRAVEL_TM_SECONDS_QY']]"
   ]
  },
  {
   "cell_type": "code",
   "execution_count": 192,
   "metadata": {},
   "outputs": [
    {
     "data": {
      "text/html": [
       "<table class=\"simpletable\">\n",
       "<caption>OLS Regression Results</caption>\n",
       "<tr>\n",
       "  <th>Dep. Variable:</th>    <td>total_incident_time</td> <th>  R-squared (uncentered):</th>       <td>   0.285</td>  \n",
       "</tr>\n",
       "<tr>\n",
       "  <th>Model:</th>                    <td>OLS</td>         <th>  Adj. R-squared (uncentered):</th>  <td>   0.285</td>  \n",
       "</tr>\n",
       "<tr>\n",
       "  <th>Method:</th>              <td>Least Squares</td>    <th>  F-statistic:       </th>           <td>3.988e+04</td> \n",
       "</tr>\n",
       "<tr>\n",
       "  <th>Date:</th>              <td>Sun, 08 Dec 2019</td>   <th>  Prob (F-statistic):</th>            <td>  0.00</td>   \n",
       "</tr>\n",
       "<tr>\n",
       "  <th>Time:</th>                  <td>13:30:37</td>       <th>  Log-Likelihood:    </th>          <td>-9.1646e+05</td>\n",
       "</tr>\n",
       "<tr>\n",
       "  <th>No. Observations:</th>       <td>100000</td>        <th>  AIC:               </th>           <td>1.833e+06</td> \n",
       "</tr>\n",
       "<tr>\n",
       "  <th>Df Residuals:</th>           <td> 99999</td>        <th>  BIC:               </th>           <td>1.833e+06</td> \n",
       "</tr>\n",
       "<tr>\n",
       "  <th>Df Model:</th>               <td>     1</td>        <th>                     </th>               <td> </td>     \n",
       "</tr>\n",
       "<tr>\n",
       "  <th>Covariance Type:</th>       <td>nonrobust</td>      <th>                     </th>               <td> </td>     \n",
       "</tr>\n",
       "</table>\n",
       "<table class=\"simpletable\">\n",
       "<tr>\n",
       "                <td></td>                   <th>coef</th>     <th>std err</th>      <th>t</th>      <th>P>|t|</th>  <th>[0.025</th>    <th>0.975]</th>  \n",
       "</tr>\n",
       "<tr>\n",
       "  <th>INCIDENT_TRAVEL_TM_SECONDS_QY</th> <td> 1.725e+04</td> <td>   86.352</td> <td>  199.712</td> <td> 0.000</td> <td> 1.71e+04</td> <td> 1.74e+04</td>\n",
       "</tr>\n",
       "</table>\n",
       "<table class=\"simpletable\">\n",
       "<tr>\n",
       "  <th>Omnibus:</th>       <td>236730.063</td> <th>  Durbin-Watson:     </th>    <td>   1.780</td>   \n",
       "</tr>\n",
       "<tr>\n",
       "  <th>Prob(Omnibus):</th>   <td> 0.000</td>   <th>  Jarque-Bera (JB):  </th> <td>4209691687.866</td>\n",
       "</tr>\n",
       "<tr>\n",
       "  <th>Skew:</th>            <td>23.834</td>   <th>  Prob(JB):          </th>    <td>    0.00</td>   \n",
       "</tr>\n",
       "<tr>\n",
       "  <th>Kurtosis:</th>       <td>1007.019</td>  <th>  Cond. No.          </th>    <td>    1.00</td>   \n",
       "</tr>\n",
       "</table><br/><br/>Warnings:<br/>[1] Standard Errors assume that the covariance matrix of the errors is correctly specified."
      ],
      "text/plain": [
       "<class 'statsmodels.iolib.summary.Summary'>\n",
       "\"\"\"\n",
       "                                 OLS Regression Results                                 \n",
       "========================================================================================\n",
       "Dep. Variable:     total_incident_time   R-squared (uncentered):                   0.285\n",
       "Model:                             OLS   Adj. R-squared (uncentered):              0.285\n",
       "Method:                  Least Squares   F-statistic:                          3.988e+04\n",
       "Date:                 Sun, 08 Dec 2019   Prob (F-statistic):                        0.00\n",
       "Time:                         13:30:37   Log-Likelihood:                     -9.1646e+05\n",
       "No. Observations:               100000   AIC:                                  1.833e+06\n",
       "Df Residuals:                    99999   BIC:                                  1.833e+06\n",
       "Df Model:                            1                                                  \n",
       "Covariance Type:             nonrobust                                                  \n",
       "=================================================================================================\n",
       "                                    coef    std err          t      P>|t|      [0.025      0.975]\n",
       "-------------------------------------------------------------------------------------------------\n",
       "INCIDENT_TRAVEL_TM_SECONDS_QY  1.725e+04     86.352    199.712      0.000    1.71e+04    1.74e+04\n",
       "==============================================================================\n",
       "Omnibus:                   236730.063   Durbin-Watson:                   1.780\n",
       "Prob(Omnibus):                  0.000   Jarque-Bera (JB):       4209691687.866\n",
       "Skew:                          23.834   Prob(JB):                         0.00\n",
       "Kurtosis:                    1007.019   Cond. No.                         1.00\n",
       "==============================================================================\n",
       "\n",
       "Warnings:\n",
       "[1] Standard Errors assume that the covariance matrix of the errors is correctly specified.\n",
       "\"\"\""
      ]
     },
     "execution_count": 192,
     "metadata": {},
     "output_type": "execute_result"
    }
   ],
   "source": [
    "# Note the difference in argument order\n",
    "model = sm.OLS(y, X).fit()\n",
    "predictions = model.predict(test_data_x1[['INCIDENT_TRAVEL_TM_SECONDS_QY']]) # make the predictions by the model\n",
    "\n",
    "# Print out the statistics\n",
    "model.summary()"
   ]
  },
  {
   "cell_type": "markdown",
   "metadata": {},
   "source": [
    "#### 6. Multiple Linear Regression "
   ]
  },
  {
   "cell_type": "code",
   "execution_count": 193,
   "metadata": {},
   "outputs": [],
   "source": [
    "X = train_data_x1"
   ]
  },
  {
   "cell_type": "code",
   "execution_count": 194,
   "metadata": {},
   "outputs": [
    {
     "data": {
      "text/html": [
       "<table class=\"simpletable\">\n",
       "<caption>OLS Regression Results</caption>\n",
       "<tr>\n",
       "  <th>Dep. Variable:</th>    <td>total_incident_time</td> <th>  R-squared (uncentered):</th>       <td>   0.617</td>  \n",
       "</tr>\n",
       "<tr>\n",
       "  <th>Model:</th>                    <td>OLS</td>         <th>  Adj. R-squared (uncentered):</th>  <td>   0.617</td>  \n",
       "</tr>\n",
       "<tr>\n",
       "  <th>Method:</th>              <td>Least Squares</td>    <th>  F-statistic:       </th>           <td>2.689e+04</td> \n",
       "</tr>\n",
       "<tr>\n",
       "  <th>Date:</th>              <td>Sun, 08 Dec 2019</td>   <th>  Prob (F-statistic):</th>            <td>  0.00</td>   \n",
       "</tr>\n",
       "<tr>\n",
       "  <th>Time:</th>                  <td>13:31:25</td>       <th>  Log-Likelihood:    </th>          <td>-8.8521e+05</td>\n",
       "</tr>\n",
       "<tr>\n",
       "  <th>No. Observations:</th>       <td>100000</td>        <th>  AIC:               </th>           <td>1.770e+06</td> \n",
       "</tr>\n",
       "<tr>\n",
       "  <th>Df Residuals:</th>           <td> 99994</td>        <th>  BIC:               </th>           <td>1.770e+06</td> \n",
       "</tr>\n",
       "<tr>\n",
       "  <th>Df Model:</th>               <td>     6</td>        <th>                     </th>               <td> </td>     \n",
       "</tr>\n",
       "<tr>\n",
       "  <th>Covariance Type:</th>       <td>nonrobust</td>      <th>                     </th>               <td> </td>     \n",
       "</tr>\n",
       "</table>\n",
       "<table class=\"simpletable\">\n",
       "<tr>\n",
       "                <td></td>                   <th>coef</th>     <th>std err</th>      <th>t</th>      <th>P>|t|</th>  <th>[0.025</th>    <th>0.975]</th>  \n",
       "</tr>\n",
       "<tr>\n",
       "  <th>incident_dt_hour</th>              <td> -129.3457</td> <td>   16.547</td> <td>   -7.817</td> <td> 0.000</td> <td> -161.778</td> <td>  -96.914</td>\n",
       "</tr>\n",
       "<tr>\n",
       "  <th>INCIDENT_RESPONSE_SECONDS_QY</th>  <td> 4745.0863</td> <td>  798.109</td> <td>    5.945</td> <td> 0.000</td> <td> 3180.803</td> <td> 6309.369</td>\n",
       "</tr>\n",
       "<tr>\n",
       "  <th>INCIDENT_TRAVEL_TM_SECONDS_QY</th> <td> 3299.9163</td> <td>  688.726</td> <td>    4.791</td> <td> 0.000</td> <td> 1950.021</td> <td> 4649.812</td>\n",
       "</tr>\n",
       "<tr>\n",
       "  <th>ENGINES_ASSIGNED_QUANTITY</th>     <td> 9022.3407</td> <td>  512.642</td> <td>   17.600</td> <td> 0.000</td> <td> 8017.569</td> <td>    1e+04</td>\n",
       "</tr>\n",
       "<tr>\n",
       "  <th>LADDERS_ASSIGNED_QUANTITY</th>     <td> 4.902e+04</td> <td>  885.855</td> <td>   55.336</td> <td> 0.000</td> <td> 4.73e+04</td> <td> 5.08e+04</td>\n",
       "</tr>\n",
       "<tr>\n",
       "  <th>OTHER_UNITS_ASSIGNED_QUANTITY</th> <td> 5.254e+04</td> <td>  368.663</td> <td>  142.516</td> <td> 0.000</td> <td> 5.18e+04</td> <td> 5.33e+04</td>\n",
       "</tr>\n",
       "</table>\n",
       "<table class=\"simpletable\">\n",
       "<tr>\n",
       "  <th>Omnibus:</th>       <td>212937.203</td> <th>  Durbin-Watson:     </th>    <td>   1.908</td>   \n",
       "</tr>\n",
       "<tr>\n",
       "  <th>Prob(Omnibus):</th>   <td> 0.000</td>   <th>  Jarque-Bera (JB):  </th> <td>3964001430.811</td>\n",
       "</tr>\n",
       "<tr>\n",
       "  <th>Skew:</th>            <td>18.177</td>   <th>  Prob(JB):          </th>    <td>    0.00</td>   \n",
       "</tr>\n",
       "<tr>\n",
       "  <th>Kurtosis:</th>        <td>977.699</td>  <th>  Cond. No.          </th>    <td>    128.</td>   \n",
       "</tr>\n",
       "</table><br/><br/>Warnings:<br/>[1] Standard Errors assume that the covariance matrix of the errors is correctly specified."
      ],
      "text/plain": [
       "<class 'statsmodels.iolib.summary.Summary'>\n",
       "\"\"\"\n",
       "                                 OLS Regression Results                                 \n",
       "========================================================================================\n",
       "Dep. Variable:     total_incident_time   R-squared (uncentered):                   0.617\n",
       "Model:                             OLS   Adj. R-squared (uncentered):              0.617\n",
       "Method:                  Least Squares   F-statistic:                          2.689e+04\n",
       "Date:                 Sun, 08 Dec 2019   Prob (F-statistic):                        0.00\n",
       "Time:                         13:31:25   Log-Likelihood:                     -8.8521e+05\n",
       "No. Observations:               100000   AIC:                                  1.770e+06\n",
       "Df Residuals:                    99994   BIC:                                  1.770e+06\n",
       "Df Model:                            6                                                  \n",
       "Covariance Type:             nonrobust                                                  \n",
       "=================================================================================================\n",
       "                                    coef    std err          t      P>|t|      [0.025      0.975]\n",
       "-------------------------------------------------------------------------------------------------\n",
       "incident_dt_hour               -129.3457     16.547     -7.817      0.000    -161.778     -96.914\n",
       "INCIDENT_RESPONSE_SECONDS_QY   4745.0863    798.109      5.945      0.000    3180.803    6309.369\n",
       "INCIDENT_TRAVEL_TM_SECONDS_QY  3299.9163    688.726      4.791      0.000    1950.021    4649.812\n",
       "ENGINES_ASSIGNED_QUANTITY      9022.3407    512.642     17.600      0.000    8017.569       1e+04\n",
       "LADDERS_ASSIGNED_QUANTITY      4.902e+04    885.855     55.336      0.000    4.73e+04    5.08e+04\n",
       "OTHER_UNITS_ASSIGNED_QUANTITY  5.254e+04    368.663    142.516      0.000    5.18e+04    5.33e+04\n",
       "==============================================================================\n",
       "Omnibus:                   212937.203   Durbin-Watson:                   1.908\n",
       "Prob(Omnibus):                  0.000   Jarque-Bera (JB):       3964001430.811\n",
       "Skew:                          18.177   Prob(JB):                         0.00\n",
       "Kurtosis:                     977.699   Cond. No.                         128.\n",
       "==============================================================================\n",
       "\n",
       "Warnings:\n",
       "[1] Standard Errors assume that the covariance matrix of the errors is correctly specified.\n",
       "\"\"\""
      ]
     },
     "execution_count": 194,
     "metadata": {},
     "output_type": "execute_result"
    }
   ],
   "source": [
    "# Note the difference in argument order\n",
    "model = sm.OLS(y, X).fit()\n",
    "predictions = model.predict(test_data_x1) # make the predictions by the model\n",
    "\n",
    "# Print out the statistics\n",
    "model.summary()"
   ]
  },
  {
   "cell_type": "markdown",
   "metadata": {},
   "source": [
    "# Summary"
   ]
  },
  {
   "cell_type": "markdown",
   "metadata": {},
   "source": [
    "We have build various simple linear regression model to predict the fire incident closing time.\n",
    "Individually they had a prective power of at max 52%.\n",
    "Predictive power of various features:\n",
    "\n",
    "1. LADDERS_ASSIGNED_QUANTITY       : 52.6%\n",
    "2. ENGINES_ASSIGNED_QUANTITY       : 48.8%\n",
    "3. OTHER_UNITS_ASSIGNED_QUANTITY   : 39.0%\n",
    "4. INCIDENT_RESPONSE_SECONDS_QY    : 28.8%\n",
    "5. INCIDENT_TRAVEL_TM_SECONDS_QY   : 28.5%\n",
    "6. incident_dt_hour                : 24.8%\n",
    "\n",
    "The Multiple Linear Regression model we have build can predict the fire incident closing time with an accuracy of 61.7%."
   ]
  },
  {
   "cell_type": "markdown",
   "metadata": {},
   "source": [
    "# Reference\n",
    "1. https://pandas.pydata.org/pandas-docs/stable/reference/frame.html\n",
    "2. https://seaborn.pydata.org/generated/seaborn.heatmap.html\n",
    "3. https://matplotlib.org/\n",
    "4. https://www.statsmodels.org/stable/index.html"
   ]
  }
 ],
 "metadata": {
  "kernelspec": {
   "display_name": "Python 3",
   "language": "python",
   "name": "python3"
  },
  "language_info": {
   "codemirror_mode": {
    "name": "ipython",
    "version": 3
   },
   "file_extension": ".py",
   "mimetype": "text/x-python",
   "name": "python",
   "nbconvert_exporter": "python",
   "pygments_lexer": "ipython3",
   "version": "3.7.3"
  }
 },
 "nbformat": 4,
 "nbformat_minor": 2
}
